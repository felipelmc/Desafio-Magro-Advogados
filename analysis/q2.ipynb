{
 "cells": [
  {
   "cell_type": "code",
   "execution_count": 63,
   "metadata": {},
   "outputs": [],
   "source": [
    "import pandas as pd\n",
    "import numpy as np\n",
    "import plotly.express as px"
   ]
  },
  {
   "cell_type": "markdown",
   "metadata": {},
   "source": [
    "Fiscalizações: https://www.gov.br/anp/pt-br/centrais-de-conteudo/paineis-dinamicos-da-anp/painel-dinamico-da-fiscalizacao-do-abastecimento\n",
    "\n",
    "Dados cadastrais: https://www.gov.br/anp/pt-br/centrais-de-conteudo/dados-abertos/dados-cadastrais-dos-revendedores-varejistas-de-combustiveis-automotivos\n"
   ]
  },
  {
   "cell_type": "code",
   "execution_count": 64,
   "metadata": {},
   "outputs": [
    {
     "name": "stderr",
     "output_type": "stream",
     "text": [
      "/var/folders/53/1typ0st128j24ztv1460xhb40000gn/T/ipykernel_7558/818727162.py:2: DtypeWarning:\n",
      "\n",
      "Columns (4) have mixed types. Specify dtype option on import or set low_memory=False.\n",
      "\n"
     ]
    }
   ],
   "source": [
    "# leitura dos arquivos\n",
    "fiscalizacoes = pd.read_csv(\"../data/dados-fiscalizacoes.csv\", sep=\";\")\n",
    "cadastros = pd.read_csv(\"../data/dados-cadastrais.csv\", sep=\";\")"
   ]
  },
  {
   "cell_type": "code",
   "execution_count": 68,
   "metadata": {},
   "outputs": [],
   "source": [
    "fiscalizacoes = fiscalizacoes.query(\"`Segmento Fiscalizado` == 'Revenda de Combustíveis'\")"
   ]
  },
  {
   "cell_type": "code",
   "execution_count": 69,
   "metadata": {},
   "outputs": [
    {
     "data": {
      "text/html": [
       "<div>\n",
       "<style scoped>\n",
       "    .dataframe tbody tr th:only-of-type {\n",
       "        vertical-align: middle;\n",
       "    }\n",
       "\n",
       "    .dataframe tbody tr th {\n",
       "        vertical-align: top;\n",
       "    }\n",
       "\n",
       "    .dataframe thead th {\n",
       "        text-align: right;\n",
       "    }\n",
       "</style>\n",
       "<table border=\"1\" class=\"dataframe\">\n",
       "  <thead>\n",
       "    <tr style=\"text-align: right;\">\n",
       "      <th></th>\n",
       "      <th>UF</th>\n",
       "      <th>Município</th>\n",
       "      <th>CNPJ/CPF</th>\n",
       "      <th>Agente Econômico</th>\n",
       "      <th>Segmento Fiscalizado</th>\n",
       "      <th>Data DF</th>\n",
       "      <th>Procedimento de Fiscalização</th>\n",
       "      <th>Resultado</th>\n",
       "    </tr>\n",
       "  </thead>\n",
       "  <tbody>\n",
       "    <tr>\n",
       "      <th>0</th>\n",
       "      <td>AC</td>\n",
       "      <td>ACRELANDIA</td>\n",
       "      <td>07481893000183</td>\n",
       "      <td>AUTO POSTO CAMARINI EIRELI</td>\n",
       "      <td>Revenda de Combustíveis</td>\n",
       "      <td>08/07/2020</td>\n",
       "      <td>Boletim de Fiscalização</td>\n",
       "      <td>Ação de fiscalização em campo</td>\n",
       "    </tr>\n",
       "    <tr>\n",
       "      <th>1</th>\n",
       "      <td>AC</td>\n",
       "      <td>ACRELANDIA</td>\n",
       "      <td>07481893000183</td>\n",
       "      <td>AUTO POSTO CAMARINI EIRELI</td>\n",
       "      <td>Revenda de Combustíveis</td>\n",
       "      <td>08/07/2020</td>\n",
       "      <td>Medida Reparadora de Conduta</td>\n",
       "      <td>MRC - PR Comb - Afixação de aviso sobre o Óleo...</td>\n",
       "    </tr>\n",
       "    <tr>\n",
       "      <th>2</th>\n",
       "      <td>AC</td>\n",
       "      <td>ACRELANDIA</td>\n",
       "      <td>07481893000183</td>\n",
       "      <td>AUTO POSTO CAMARINI EIRELI</td>\n",
       "      <td>Revenda de Combustíveis</td>\n",
       "      <td>08/07/2020</td>\n",
       "      <td>Boletim de Fiscalização</td>\n",
       "      <td>Ação de Fiscalização - Outras Situações</td>\n",
       "    </tr>\n",
       "    <tr>\n",
       "      <th>3</th>\n",
       "      <td>AC</td>\n",
       "      <td>ACRELANDIA</td>\n",
       "      <td>07481893000183</td>\n",
       "      <td>AUTO POSTO CAMARINI EIRELI</td>\n",
       "      <td>Revenda de Combustíveis</td>\n",
       "      <td>08/07/2020</td>\n",
       "      <td>Notificação</td>\n",
       "      <td>Notificação - Prazo 30 dias</td>\n",
       "    </tr>\n",
       "    <tr>\n",
       "      <th>4</th>\n",
       "      <td>AC</td>\n",
       "      <td>ACRELANDIA</td>\n",
       "      <td>07481893000183</td>\n",
       "      <td>AUTO POSTO CAMARINI EIRELI</td>\n",
       "      <td>Revenda de Combustíveis</td>\n",
       "      <td>08/07/2020</td>\n",
       "      <td>Boletim de Fiscalização</td>\n",
       "      <td>ATIV ECON - Revenda de Combustíveis</td>\n",
       "    </tr>\n",
       "  </tbody>\n",
       "</table>\n",
       "</div>"
      ],
      "text/plain": [
       "   UF   Município        CNPJ/CPF            Agente Econômico  \\\n",
       "0  AC  ACRELANDIA  07481893000183  AUTO POSTO CAMARINI EIRELI   \n",
       "1  AC  ACRELANDIA  07481893000183  AUTO POSTO CAMARINI EIRELI   \n",
       "2  AC  ACRELANDIA  07481893000183  AUTO POSTO CAMARINI EIRELI   \n",
       "3  AC  ACRELANDIA  07481893000183  AUTO POSTO CAMARINI EIRELI   \n",
       "4  AC  ACRELANDIA  07481893000183  AUTO POSTO CAMARINI EIRELI   \n",
       "\n",
       "      Segmento Fiscalizado     Data DF  Procedimento de Fiscalização  \\\n",
       "0  Revenda de Combustíveis  08/07/2020       Boletim de Fiscalização   \n",
       "1  Revenda de Combustíveis  08/07/2020  Medida Reparadora de Conduta   \n",
       "2  Revenda de Combustíveis  08/07/2020       Boletim de Fiscalização   \n",
       "3  Revenda de Combustíveis  08/07/2020                   Notificação   \n",
       "4  Revenda de Combustíveis  08/07/2020       Boletim de Fiscalização   \n",
       "\n",
       "                                           Resultado  \n",
       "0                      Ação de fiscalização em campo  \n",
       "1  MRC - PR Comb - Afixação de aviso sobre o Óleo...  \n",
       "2            Ação de Fiscalização - Outras Situações  \n",
       "3                        Notificação - Prazo 30 dias  \n",
       "4                ATIV ECON - Revenda de Combustíveis  "
      ]
     },
     "execution_count": 69,
     "metadata": {},
     "output_type": "execute_result"
    }
   ],
   "source": [
    "colunas_fiscalizacoes = [\"UF\", \"Município\", \"CNPJ/CPF\", \"Agente Econômico\", \"Segmento Fiscalizado\", \"Data DF\", \"Procedimento de Fiscalização\", \"Resultado\"]\n",
    "fiscalizacoes = fiscalizacoes[colunas_fiscalizacoes]\n",
    "fiscalizacoes.head()"
   ]
  },
  {
   "cell_type": "code",
   "execution_count": 70,
   "metadata": {},
   "outputs": [
    {
     "data": {
      "text/html": [
       "<div>\n",
       "<style scoped>\n",
       "    .dataframe tbody tr th:only-of-type {\n",
       "        vertical-align: middle;\n",
       "    }\n",
       "\n",
       "    .dataframe tbody tr th {\n",
       "        vertical-align: top;\n",
       "    }\n",
       "\n",
       "    .dataframe thead th {\n",
       "        text-align: right;\n",
       "    }\n",
       "</style>\n",
       "<table border=\"1\" class=\"dataframe\">\n",
       "  <thead>\n",
       "    <tr style=\"text-align: right;\">\n",
       "      <th></th>\n",
       "      <th>CNPJ</th>\n",
       "      <th>BANDEIRA</th>\n",
       "    </tr>\n",
       "  </thead>\n",
       "  <tbody>\n",
       "    <tr>\n",
       "      <th>0</th>\n",
       "      <td>49051667000102</td>\n",
       "      <td>VIBRA</td>\n",
       "    </tr>\n",
       "    <tr>\n",
       "      <th>1</th>\n",
       "      <td>19052407000190</td>\n",
       "      <td>BANDEIRA BRANCA</td>\n",
       "    </tr>\n",
       "    <tr>\n",
       "      <th>2</th>\n",
       "      <td>3188000474</td>\n",
       "      <td>BANDEIRA BRANCA</td>\n",
       "    </tr>\n",
       "    <tr>\n",
       "      <th>3</th>\n",
       "      <td>5678449000127</td>\n",
       "      <td>RAIZEN</td>\n",
       "    </tr>\n",
       "    <tr>\n",
       "      <th>4</th>\n",
       "      <td>88587589000621</td>\n",
       "      <td>BANDEIRA BRANCA</td>\n",
       "    </tr>\n",
       "  </tbody>\n",
       "</table>\n",
       "</div>"
      ],
      "text/plain": [
       "             CNPJ         BANDEIRA\n",
       "0  49051667000102            VIBRA\n",
       "1  19052407000190  BANDEIRA BRANCA\n",
       "2      3188000474  BANDEIRA BRANCA\n",
       "3   5678449000127           RAIZEN\n",
       "4  88587589000621  BANDEIRA BRANCA"
      ]
     },
     "execution_count": 70,
     "metadata": {},
     "output_type": "execute_result"
    }
   ],
   "source": [
    "colunas_cadastros = [\"CNPJ\", \"BANDEIRA\"]\n",
    "cadastros = cadastros[colunas_cadastros]\n",
    "cadastros.head()"
   ]
  },
  {
   "cell_type": "code",
   "execution_count": 71,
   "metadata": {},
   "outputs": [
    {
     "data": {
      "text/html": [
       "<div>\n",
       "<style scoped>\n",
       "    .dataframe tbody tr th:only-of-type {\n",
       "        vertical-align: middle;\n",
       "    }\n",
       "\n",
       "    .dataframe tbody tr th {\n",
       "        vertical-align: top;\n",
       "    }\n",
       "\n",
       "    .dataframe thead th {\n",
       "        text-align: right;\n",
       "    }\n",
       "</style>\n",
       "<table border=\"1\" class=\"dataframe\">\n",
       "  <thead>\n",
       "    <tr style=\"text-align: right;\">\n",
       "      <th></th>\n",
       "      <th>UF</th>\n",
       "      <th>Município</th>\n",
       "      <th>CNPJ/CPF</th>\n",
       "      <th>Agente Econômico</th>\n",
       "      <th>Segmento Fiscalizado</th>\n",
       "      <th>Data DF</th>\n",
       "      <th>Procedimento de Fiscalização</th>\n",
       "      <th>Resultado</th>\n",
       "      <th>CNPJ</th>\n",
       "      <th>BANDEIRA</th>\n",
       "    </tr>\n",
       "  </thead>\n",
       "  <tbody>\n",
       "    <tr>\n",
       "      <th>0</th>\n",
       "      <td>DF</td>\n",
       "      <td>BRASILIA</td>\n",
       "      <td>38076089000142</td>\n",
       "      <td>AUTO POSTO ÁGUAS CLARAS LTDA</td>\n",
       "      <td>Revenda de Combustíveis</td>\n",
       "      <td>20/09/2019</td>\n",
       "      <td>Notificação</td>\n",
       "      <td>Notificação - Prazo 05 dias</td>\n",
       "      <td>38076089000142</td>\n",
       "      <td>IPIRANGA</td>\n",
       "    </tr>\n",
       "    <tr>\n",
       "      <th>1</th>\n",
       "      <td>DF</td>\n",
       "      <td>BRASILIA</td>\n",
       "      <td>38076089000142</td>\n",
       "      <td>AUTO POSTO AGUAS CLARAS LTDA</td>\n",
       "      <td>Revenda de Combustíveis</td>\n",
       "      <td>20/09/2019</td>\n",
       "      <td>Boletim de Fiscalização</td>\n",
       "      <td>ATIV ECON - Revenda de Combustíveis</td>\n",
       "      <td>38076089000142</td>\n",
       "      <td>IPIRANGA</td>\n",
       "    </tr>\n",
       "    <tr>\n",
       "      <th>2</th>\n",
       "      <td>DF</td>\n",
       "      <td>BRASILIA</td>\n",
       "      <td>38076089000142</td>\n",
       "      <td>AUTO POSTO AGUAS CLARAS LTDA</td>\n",
       "      <td>Revenda de Combustíveis</td>\n",
       "      <td>20/09/2019</td>\n",
       "      <td>Boletim de Fiscalização</td>\n",
       "      <td>Ação de Fiscalização - Outras Situações</td>\n",
       "      <td>38076089000142</td>\n",
       "      <td>IPIRANGA</td>\n",
       "    </tr>\n",
       "    <tr>\n",
       "      <th>3</th>\n",
       "      <td>DF</td>\n",
       "      <td>BRASILIA</td>\n",
       "      <td>38076089000142</td>\n",
       "      <td>AUTO POSTO AGUAS CLARAS LTDA</td>\n",
       "      <td>Revenda de Combustíveis</td>\n",
       "      <td>12/12/2019</td>\n",
       "      <td>Boletim de Fiscalização</td>\n",
       "      <td>ATIV ECON - Revenda de Combustíveis</td>\n",
       "      <td>38076089000142</td>\n",
       "      <td>IPIRANGA</td>\n",
       "    </tr>\n",
       "    <tr>\n",
       "      <th>4</th>\n",
       "      <td>DF</td>\n",
       "      <td>BRASILIA</td>\n",
       "      <td>38076089000142</td>\n",
       "      <td>AUTO POSTO AGUAS CLARAS LTDA</td>\n",
       "      <td>Revenda de Combustíveis</td>\n",
       "      <td>12/12/2019</td>\n",
       "      <td>Boletim de Fiscalização</td>\n",
       "      <td>Ação de Fiscalização - Cumprimento de Notificação</td>\n",
       "      <td>38076089000142</td>\n",
       "      <td>IPIRANGA</td>\n",
       "    </tr>\n",
       "  </tbody>\n",
       "</table>\n",
       "</div>"
      ],
      "text/plain": [
       "   UF Município        CNPJ/CPF              Agente Econômico  \\\n",
       "0  DF  BRASILIA  38076089000142  AUTO POSTO ÁGUAS CLARAS LTDA   \n",
       "1  DF  BRASILIA  38076089000142  AUTO POSTO AGUAS CLARAS LTDA   \n",
       "2  DF  BRASILIA  38076089000142  AUTO POSTO AGUAS CLARAS LTDA   \n",
       "3  DF  BRASILIA  38076089000142  AUTO POSTO AGUAS CLARAS LTDA   \n",
       "4  DF  BRASILIA  38076089000142  AUTO POSTO AGUAS CLARAS LTDA   \n",
       "\n",
       "      Segmento Fiscalizado     Data DF Procedimento de Fiscalização  \\\n",
       "0  Revenda de Combustíveis  20/09/2019                  Notificação   \n",
       "1  Revenda de Combustíveis  20/09/2019      Boletim de Fiscalização   \n",
       "2  Revenda de Combustíveis  20/09/2019      Boletim de Fiscalização   \n",
       "3  Revenda de Combustíveis  12/12/2019      Boletim de Fiscalização   \n",
       "4  Revenda de Combustíveis  12/12/2019      Boletim de Fiscalização   \n",
       "\n",
       "                                           Resultado            CNPJ  BANDEIRA  \n",
       "0                        Notificação - Prazo 05 dias  38076089000142  IPIRANGA  \n",
       "1                ATIV ECON - Revenda de Combustíveis  38076089000142  IPIRANGA  \n",
       "2            Ação de Fiscalização - Outras Situações  38076089000142  IPIRANGA  \n",
       "3                ATIV ECON - Revenda de Combustíveis  38076089000142  IPIRANGA  \n",
       "4  Ação de Fiscalização - Cumprimento de Notificação  38076089000142  IPIRANGA  "
      ]
     },
     "execution_count": 71,
     "metadata": {},
     "output_type": "execute_result"
    }
   ],
   "source": [
    "df = pd.merge(fiscalizacoes, cadastros, left_on=\"CNPJ/CPF\", right_on=\"CNPJ\", how=\"inner\")\n",
    "df.head()"
   ]
  },
  {
   "cell_type": "code",
   "execution_count": 72,
   "metadata": {},
   "outputs": [],
   "source": [
    "def binaryzation(x):\n",
    "    if x == \"BANDEIRA BRANCA\":\n",
    "        return x\n",
    "    else:\n",
    "        return \"EMBANDEIRADO\"\n",
    "    \n",
    "df[\"BANDEIRA\"] = df[\"BANDEIRA\"].apply(binaryzation)"
   ]
  },
  {
   "cell_type": "code",
   "execution_count": 73,
   "metadata": {},
   "outputs": [],
   "source": [
    "df[\"Data DF\"] = pd.to_datetime(df[\"Data DF\"], format=\"%d/%m/%Y\")"
   ]
  },
  {
   "cell_type": "code",
   "execution_count": 74,
   "metadata": {},
   "outputs": [
    {
     "data": {
      "text/html": [
       "<div>\n",
       "<style scoped>\n",
       "    .dataframe tbody tr th:only-of-type {\n",
       "        vertical-align: middle;\n",
       "    }\n",
       "\n",
       "    .dataframe tbody tr th {\n",
       "        vertical-align: top;\n",
       "    }\n",
       "\n",
       "    .dataframe thead th {\n",
       "        text-align: right;\n",
       "    }\n",
       "</style>\n",
       "<table border=\"1\" class=\"dataframe\">\n",
       "  <thead>\n",
       "    <tr style=\"text-align: right;\">\n",
       "      <th></th>\n",
       "      <th>UF</th>\n",
       "      <th>Município</th>\n",
       "      <th>CNPJ/CPF</th>\n",
       "      <th>Agente Econômico</th>\n",
       "      <th>Segmento Fiscalizado</th>\n",
       "      <th>Data DF</th>\n",
       "      <th>Procedimento de Fiscalização</th>\n",
       "      <th>Resultado</th>\n",
       "      <th>CNPJ</th>\n",
       "      <th>BANDEIRA</th>\n",
       "    </tr>\n",
       "  </thead>\n",
       "  <tbody>\n",
       "    <tr>\n",
       "      <th>0</th>\n",
       "      <td>DF</td>\n",
       "      <td>BRASILIA</td>\n",
       "      <td>38076089000142</td>\n",
       "      <td>AUTO POSTO ÁGUAS CLARAS LTDA</td>\n",
       "      <td>Revenda de Combustíveis</td>\n",
       "      <td>2019-09-20</td>\n",
       "      <td>Notificação</td>\n",
       "      <td>Notificação - Prazo 05 dias</td>\n",
       "      <td>38076089000142</td>\n",
       "      <td>EMBANDEIRADO</td>\n",
       "    </tr>\n",
       "    <tr>\n",
       "      <th>1</th>\n",
       "      <td>DF</td>\n",
       "      <td>BRASILIA</td>\n",
       "      <td>38076089000142</td>\n",
       "      <td>AUTO POSTO AGUAS CLARAS LTDA</td>\n",
       "      <td>Revenda de Combustíveis</td>\n",
       "      <td>2019-09-20</td>\n",
       "      <td>Boletim de Fiscalização</td>\n",
       "      <td>ATIV ECON - Revenda de Combustíveis</td>\n",
       "      <td>38076089000142</td>\n",
       "      <td>EMBANDEIRADO</td>\n",
       "    </tr>\n",
       "    <tr>\n",
       "      <th>2</th>\n",
       "      <td>DF</td>\n",
       "      <td>BRASILIA</td>\n",
       "      <td>38076089000142</td>\n",
       "      <td>AUTO POSTO AGUAS CLARAS LTDA</td>\n",
       "      <td>Revenda de Combustíveis</td>\n",
       "      <td>2019-09-20</td>\n",
       "      <td>Boletim de Fiscalização</td>\n",
       "      <td>Ação de Fiscalização - Outras Situações</td>\n",
       "      <td>38076089000142</td>\n",
       "      <td>EMBANDEIRADO</td>\n",
       "    </tr>\n",
       "    <tr>\n",
       "      <th>3</th>\n",
       "      <td>DF</td>\n",
       "      <td>BRASILIA</td>\n",
       "      <td>38076089000142</td>\n",
       "      <td>AUTO POSTO AGUAS CLARAS LTDA</td>\n",
       "      <td>Revenda de Combustíveis</td>\n",
       "      <td>2019-12-12</td>\n",
       "      <td>Boletim de Fiscalização</td>\n",
       "      <td>ATIV ECON - Revenda de Combustíveis</td>\n",
       "      <td>38076089000142</td>\n",
       "      <td>EMBANDEIRADO</td>\n",
       "    </tr>\n",
       "    <tr>\n",
       "      <th>4</th>\n",
       "      <td>DF</td>\n",
       "      <td>BRASILIA</td>\n",
       "      <td>38076089000142</td>\n",
       "      <td>AUTO POSTO AGUAS CLARAS LTDA</td>\n",
       "      <td>Revenda de Combustíveis</td>\n",
       "      <td>2019-12-12</td>\n",
       "      <td>Boletim de Fiscalização</td>\n",
       "      <td>Ação de Fiscalização - Cumprimento de Notificação</td>\n",
       "      <td>38076089000142</td>\n",
       "      <td>EMBANDEIRADO</td>\n",
       "    </tr>\n",
       "  </tbody>\n",
       "</table>\n",
       "</div>"
      ],
      "text/plain": [
       "   UF Município        CNPJ/CPF              Agente Econômico  \\\n",
       "0  DF  BRASILIA  38076089000142  AUTO POSTO ÁGUAS CLARAS LTDA   \n",
       "1  DF  BRASILIA  38076089000142  AUTO POSTO AGUAS CLARAS LTDA   \n",
       "2  DF  BRASILIA  38076089000142  AUTO POSTO AGUAS CLARAS LTDA   \n",
       "3  DF  BRASILIA  38076089000142  AUTO POSTO AGUAS CLARAS LTDA   \n",
       "4  DF  BRASILIA  38076089000142  AUTO POSTO AGUAS CLARAS LTDA   \n",
       "\n",
       "      Segmento Fiscalizado    Data DF Procedimento de Fiscalização  \\\n",
       "0  Revenda de Combustíveis 2019-09-20                  Notificação   \n",
       "1  Revenda de Combustíveis 2019-09-20      Boletim de Fiscalização   \n",
       "2  Revenda de Combustíveis 2019-09-20      Boletim de Fiscalização   \n",
       "3  Revenda de Combustíveis 2019-12-12      Boletim de Fiscalização   \n",
       "4  Revenda de Combustíveis 2019-12-12      Boletim de Fiscalização   \n",
       "\n",
       "                                           Resultado            CNPJ  \\\n",
       "0                        Notificação - Prazo 05 dias  38076089000142   \n",
       "1                ATIV ECON - Revenda de Combustíveis  38076089000142   \n",
       "2            Ação de Fiscalização - Outras Situações  38076089000142   \n",
       "3                ATIV ECON - Revenda de Combustíveis  38076089000142   \n",
       "4  Ação de Fiscalização - Cumprimento de Notificação  38076089000142   \n",
       "\n",
       "       BANDEIRA  \n",
       "0  EMBANDEIRADO  \n",
       "1  EMBANDEIRADO  \n",
       "2  EMBANDEIRADO  \n",
       "3  EMBANDEIRADO  \n",
       "4  EMBANDEIRADO  "
      ]
     },
     "execution_count": 74,
     "metadata": {},
     "output_type": "execute_result"
    }
   ],
   "source": [
    "df.head()"
   ]
  },
  {
   "cell_type": "code",
   "execution_count": 75,
   "metadata": {},
   "outputs": [
    {
     "data": {
      "text/html": [
       "<div>\n",
       "<style scoped>\n",
       "    .dataframe tbody tr th:only-of-type {\n",
       "        vertical-align: middle;\n",
       "    }\n",
       "\n",
       "    .dataframe tbody tr th {\n",
       "        vertical-align: top;\n",
       "    }\n",
       "\n",
       "    .dataframe thead th {\n",
       "        text-align: right;\n",
       "    }\n",
       "</style>\n",
       "<table border=\"1\" class=\"dataframe\">\n",
       "  <thead>\n",
       "    <tr style=\"text-align: right;\">\n",
       "      <th></th>\n",
       "      <th>BANDEIRA</th>\n",
       "      <th>proportion</th>\n",
       "    </tr>\n",
       "  </thead>\n",
       "  <tbody>\n",
       "    <tr>\n",
       "      <th>0</th>\n",
       "      <td>EMBANDEIRADO</td>\n",
       "      <td>0.550313</td>\n",
       "    </tr>\n",
       "    <tr>\n",
       "      <th>1</th>\n",
       "      <td>BANDEIRA BRANCA</td>\n",
       "      <td>0.449687</td>\n",
       "    </tr>\n",
       "  </tbody>\n",
       "</table>\n",
       "</div>"
      ],
      "text/plain": [
       "          BANDEIRA  proportion\n",
       "0     EMBANDEIRADO    0.550313\n",
       "1  BANDEIRA BRANCA    0.449687"
      ]
     },
     "execution_count": 75,
     "metadata": {},
     "output_type": "execute_result"
    }
   ],
   "source": [
    "percent_bandeira = df[\"BANDEIRA\"].value_counts(normalize=True).reset_index()\n",
    "percent_bandeira"
   ]
  },
  {
   "cell_type": "code",
   "execution_count": 76,
   "metadata": {},
   "outputs": [
    {
     "data": {
      "text/plain": [
       "Timestamp('2023-06-30 00:00:00')"
      ]
     },
     "execution_count": 76,
     "metadata": {},
     "output_type": "execute_result"
    }
   ],
   "source": [
    "df[\"Data DF\"].max()"
   ]
  },
  {
   "cell_type": "code",
   "execution_count": 77,
   "metadata": {},
   "outputs": [
    {
     "data": {
      "text/plain": [
       "Timestamp('2018-01-01 00:00:00')"
      ]
     },
     "execution_count": 77,
     "metadata": {},
     "output_type": "execute_result"
    }
   ],
   "source": [
    "df[\"Data DF\"].min()"
   ]
  },
  {
   "cell_type": "code",
   "execution_count": 78,
   "metadata": {},
   "outputs": [
    {
     "data": {
      "application/vnd.plotly.v1+json": {
       "config": {
        "plotlyServerURL": "https://plot.ly"
       },
       "data": [
        {
         "alignmentgroup": "True",
         "hovertemplate": "Posto=%{x}<br>Proporção=%{text}<extra></extra>",
         "legendgroup": "EMBANDEIRADO",
         "marker": {
          "color": "rgb(29,60,67)",
          "pattern": {
           "shape": ""
          }
         },
         "name": "EMBANDEIRADO",
         "offsetgroup": "EMBANDEIRADO",
         "orientation": "v",
         "showlegend": true,
         "text": [
          0.5503129055371002
         ],
         "textfont": {
          "color": "black",
          "size": 13
         },
         "textposition": "outside",
         "texttemplate": "%{text:.2%}",
         "type": "bar",
         "x": [
          "EMBANDEIRADO"
         ],
         "xaxis": "x",
         "y": [
          0.5503129055371002
         ],
         "yaxis": "y"
        },
        {
         "alignmentgroup": "True",
         "hovertemplate": "Posto=%{x}<br>Proporção=%{text}<extra></extra>",
         "legendgroup": "BANDEIRA BRANCA",
         "marker": {
          "color": "rgb(84,116,117)",
          "pattern": {
           "shape": ""
          }
         },
         "name": "BANDEIRA BRANCA",
         "offsetgroup": "BANDEIRA BRANCA",
         "orientation": "v",
         "showlegend": true,
         "text": [
          0.4496870944628998
         ],
         "textfont": {
          "color": "black",
          "size": 13
         },
         "textposition": "outside",
         "texttemplate": "%{text:.2%}",
         "type": "bar",
         "x": [
          "BANDEIRA BRANCA"
         ],
         "xaxis": "x",
         "y": [
          0.4496870944628998
         ],
         "yaxis": "y"
        }
       ],
       "layout": {
        "annotations": [
         {
          "font": {
           "color": "black",
           "size": 12
          },
          "showarrow": false,
          "text": "<b>Fonte:</b> ANP / <b>Elaboração:</b> Felipe Lamarca",
          "x": -0.17,
          "xref": "paper",
          "y": 1.07,
          "yref": "paper"
         }
        ],
        "barmode": "relative",
        "font": {
         "color": "black",
         "size": 11.5
        },
        "height": 600,
        "legend": {
         "title": {
          "text": "Posto"
         },
         "tracegroupgap": 0
        },
        "margin": {
         "t": 110
        },
        "paper_bgcolor": "rgba(255, 255, 255, 255)",
        "plot_bgcolor": "rgba(255, 255, 255, 255)",
        "showlegend": false,
        "template": {
         "data": {
          "bar": [
           {
            "error_x": {
             "color": "#2a3f5f"
            },
            "error_y": {
             "color": "#2a3f5f"
            },
            "marker": {
             "line": {
              "color": "#E5ECF6",
              "width": 0.5
             },
             "pattern": {
              "fillmode": "overlay",
              "size": 10,
              "solidity": 0.2
             }
            },
            "type": "bar"
           }
          ],
          "barpolar": [
           {
            "marker": {
             "line": {
              "color": "#E5ECF6",
              "width": 0.5
             },
             "pattern": {
              "fillmode": "overlay",
              "size": 10,
              "solidity": 0.2
             }
            },
            "type": "barpolar"
           }
          ],
          "carpet": [
           {
            "aaxis": {
             "endlinecolor": "#2a3f5f",
             "gridcolor": "white",
             "linecolor": "white",
             "minorgridcolor": "white",
             "startlinecolor": "#2a3f5f"
            },
            "baxis": {
             "endlinecolor": "#2a3f5f",
             "gridcolor": "white",
             "linecolor": "white",
             "minorgridcolor": "white",
             "startlinecolor": "#2a3f5f"
            },
            "type": "carpet"
           }
          ],
          "choropleth": [
           {
            "colorbar": {
             "outlinewidth": 0,
             "ticks": ""
            },
            "type": "choropleth"
           }
          ],
          "contour": [
           {
            "colorbar": {
             "outlinewidth": 0,
             "ticks": ""
            },
            "colorscale": [
             [
              0,
              "#0d0887"
             ],
             [
              0.1111111111111111,
              "#46039f"
             ],
             [
              0.2222222222222222,
              "#7201a8"
             ],
             [
              0.3333333333333333,
              "#9c179e"
             ],
             [
              0.4444444444444444,
              "#bd3786"
             ],
             [
              0.5555555555555556,
              "#d8576b"
             ],
             [
              0.6666666666666666,
              "#ed7953"
             ],
             [
              0.7777777777777778,
              "#fb9f3a"
             ],
             [
              0.8888888888888888,
              "#fdca26"
             ],
             [
              1,
              "#f0f921"
             ]
            ],
            "type": "contour"
           }
          ],
          "contourcarpet": [
           {
            "colorbar": {
             "outlinewidth": 0,
             "ticks": ""
            },
            "type": "contourcarpet"
           }
          ],
          "heatmap": [
           {
            "colorbar": {
             "outlinewidth": 0,
             "ticks": ""
            },
            "colorscale": [
             [
              0,
              "#0d0887"
             ],
             [
              0.1111111111111111,
              "#46039f"
             ],
             [
              0.2222222222222222,
              "#7201a8"
             ],
             [
              0.3333333333333333,
              "#9c179e"
             ],
             [
              0.4444444444444444,
              "#bd3786"
             ],
             [
              0.5555555555555556,
              "#d8576b"
             ],
             [
              0.6666666666666666,
              "#ed7953"
             ],
             [
              0.7777777777777778,
              "#fb9f3a"
             ],
             [
              0.8888888888888888,
              "#fdca26"
             ],
             [
              1,
              "#f0f921"
             ]
            ],
            "type": "heatmap"
           }
          ],
          "heatmapgl": [
           {
            "colorbar": {
             "outlinewidth": 0,
             "ticks": ""
            },
            "colorscale": [
             [
              0,
              "#0d0887"
             ],
             [
              0.1111111111111111,
              "#46039f"
             ],
             [
              0.2222222222222222,
              "#7201a8"
             ],
             [
              0.3333333333333333,
              "#9c179e"
             ],
             [
              0.4444444444444444,
              "#bd3786"
             ],
             [
              0.5555555555555556,
              "#d8576b"
             ],
             [
              0.6666666666666666,
              "#ed7953"
             ],
             [
              0.7777777777777778,
              "#fb9f3a"
             ],
             [
              0.8888888888888888,
              "#fdca26"
             ],
             [
              1,
              "#f0f921"
             ]
            ],
            "type": "heatmapgl"
           }
          ],
          "histogram": [
           {
            "marker": {
             "pattern": {
              "fillmode": "overlay",
              "size": 10,
              "solidity": 0.2
             }
            },
            "type": "histogram"
           }
          ],
          "histogram2d": [
           {
            "colorbar": {
             "outlinewidth": 0,
             "ticks": ""
            },
            "colorscale": [
             [
              0,
              "#0d0887"
             ],
             [
              0.1111111111111111,
              "#46039f"
             ],
             [
              0.2222222222222222,
              "#7201a8"
             ],
             [
              0.3333333333333333,
              "#9c179e"
             ],
             [
              0.4444444444444444,
              "#bd3786"
             ],
             [
              0.5555555555555556,
              "#d8576b"
             ],
             [
              0.6666666666666666,
              "#ed7953"
             ],
             [
              0.7777777777777778,
              "#fb9f3a"
             ],
             [
              0.8888888888888888,
              "#fdca26"
             ],
             [
              1,
              "#f0f921"
             ]
            ],
            "type": "histogram2d"
           }
          ],
          "histogram2dcontour": [
           {
            "colorbar": {
             "outlinewidth": 0,
             "ticks": ""
            },
            "colorscale": [
             [
              0,
              "#0d0887"
             ],
             [
              0.1111111111111111,
              "#46039f"
             ],
             [
              0.2222222222222222,
              "#7201a8"
             ],
             [
              0.3333333333333333,
              "#9c179e"
             ],
             [
              0.4444444444444444,
              "#bd3786"
             ],
             [
              0.5555555555555556,
              "#d8576b"
             ],
             [
              0.6666666666666666,
              "#ed7953"
             ],
             [
              0.7777777777777778,
              "#fb9f3a"
             ],
             [
              0.8888888888888888,
              "#fdca26"
             ],
             [
              1,
              "#f0f921"
             ]
            ],
            "type": "histogram2dcontour"
           }
          ],
          "mesh3d": [
           {
            "colorbar": {
             "outlinewidth": 0,
             "ticks": ""
            },
            "type": "mesh3d"
           }
          ],
          "parcoords": [
           {
            "line": {
             "colorbar": {
              "outlinewidth": 0,
              "ticks": ""
             }
            },
            "type": "parcoords"
           }
          ],
          "pie": [
           {
            "automargin": true,
            "type": "pie"
           }
          ],
          "scatter": [
           {
            "fillpattern": {
             "fillmode": "overlay",
             "size": 10,
             "solidity": 0.2
            },
            "type": "scatter"
           }
          ],
          "scatter3d": [
           {
            "line": {
             "colorbar": {
              "outlinewidth": 0,
              "ticks": ""
             }
            },
            "marker": {
             "colorbar": {
              "outlinewidth": 0,
              "ticks": ""
             }
            },
            "type": "scatter3d"
           }
          ],
          "scattercarpet": [
           {
            "marker": {
             "colorbar": {
              "outlinewidth": 0,
              "ticks": ""
             }
            },
            "type": "scattercarpet"
           }
          ],
          "scattergeo": [
           {
            "marker": {
             "colorbar": {
              "outlinewidth": 0,
              "ticks": ""
             }
            },
            "type": "scattergeo"
           }
          ],
          "scattergl": [
           {
            "marker": {
             "colorbar": {
              "outlinewidth": 0,
              "ticks": ""
             }
            },
            "type": "scattergl"
           }
          ],
          "scattermapbox": [
           {
            "marker": {
             "colorbar": {
              "outlinewidth": 0,
              "ticks": ""
             }
            },
            "type": "scattermapbox"
           }
          ],
          "scatterpolar": [
           {
            "marker": {
             "colorbar": {
              "outlinewidth": 0,
              "ticks": ""
             }
            },
            "type": "scatterpolar"
           }
          ],
          "scatterpolargl": [
           {
            "marker": {
             "colorbar": {
              "outlinewidth": 0,
              "ticks": ""
             }
            },
            "type": "scatterpolargl"
           }
          ],
          "scatterternary": [
           {
            "marker": {
             "colorbar": {
              "outlinewidth": 0,
              "ticks": ""
             }
            },
            "type": "scatterternary"
           }
          ],
          "surface": [
           {
            "colorbar": {
             "outlinewidth": 0,
             "ticks": ""
            },
            "colorscale": [
             [
              0,
              "#0d0887"
             ],
             [
              0.1111111111111111,
              "#46039f"
             ],
             [
              0.2222222222222222,
              "#7201a8"
             ],
             [
              0.3333333333333333,
              "#9c179e"
             ],
             [
              0.4444444444444444,
              "#bd3786"
             ],
             [
              0.5555555555555556,
              "#d8576b"
             ],
             [
              0.6666666666666666,
              "#ed7953"
             ],
             [
              0.7777777777777778,
              "#fb9f3a"
             ],
             [
              0.8888888888888888,
              "#fdca26"
             ],
             [
              1,
              "#f0f921"
             ]
            ],
            "type": "surface"
           }
          ],
          "table": [
           {
            "cells": {
             "fill": {
              "color": "#EBF0F8"
             },
             "line": {
              "color": "white"
             }
            },
            "header": {
             "fill": {
              "color": "#C8D4E3"
             },
             "line": {
              "color": "white"
             }
            },
            "type": "table"
           }
          ]
         },
         "layout": {
          "annotationdefaults": {
           "arrowcolor": "#2a3f5f",
           "arrowhead": 0,
           "arrowwidth": 1
          },
          "autotypenumbers": "strict",
          "coloraxis": {
           "colorbar": {
            "outlinewidth": 0,
            "ticks": ""
           }
          },
          "colorscale": {
           "diverging": [
            [
             0,
             "#8e0152"
            ],
            [
             0.1,
             "#c51b7d"
            ],
            [
             0.2,
             "#de77ae"
            ],
            [
             0.3,
             "#f1b6da"
            ],
            [
             0.4,
             "#fde0ef"
            ],
            [
             0.5,
             "#f7f7f7"
            ],
            [
             0.6,
             "#e6f5d0"
            ],
            [
             0.7,
             "#b8e186"
            ],
            [
             0.8,
             "#7fbc41"
            ],
            [
             0.9,
             "#4d9221"
            ],
            [
             1,
             "#276419"
            ]
           ],
           "sequential": [
            [
             0,
             "#0d0887"
            ],
            [
             0.1111111111111111,
             "#46039f"
            ],
            [
             0.2222222222222222,
             "#7201a8"
            ],
            [
             0.3333333333333333,
             "#9c179e"
            ],
            [
             0.4444444444444444,
             "#bd3786"
            ],
            [
             0.5555555555555556,
             "#d8576b"
            ],
            [
             0.6666666666666666,
             "#ed7953"
            ],
            [
             0.7777777777777778,
             "#fb9f3a"
            ],
            [
             0.8888888888888888,
             "#fdca26"
            ],
            [
             1,
             "#f0f921"
            ]
           ],
           "sequentialminus": [
            [
             0,
             "#0d0887"
            ],
            [
             0.1111111111111111,
             "#46039f"
            ],
            [
             0.2222222222222222,
             "#7201a8"
            ],
            [
             0.3333333333333333,
             "#9c179e"
            ],
            [
             0.4444444444444444,
             "#bd3786"
            ],
            [
             0.5555555555555556,
             "#d8576b"
            ],
            [
             0.6666666666666666,
             "#ed7953"
            ],
            [
             0.7777777777777778,
             "#fb9f3a"
            ],
            [
             0.8888888888888888,
             "#fdca26"
            ],
            [
             1,
             "#f0f921"
            ]
           ]
          },
          "colorway": [
           "#636efa",
           "#EF553B",
           "#00cc96",
           "#ab63fa",
           "#FFA15A",
           "#19d3f3",
           "#FF6692",
           "#B6E880",
           "#FF97FF",
           "#FECB52"
          ],
          "font": {
           "color": "#2a3f5f"
          },
          "geo": {
           "bgcolor": "white",
           "lakecolor": "white",
           "landcolor": "#E5ECF6",
           "showlakes": true,
           "showland": true,
           "subunitcolor": "white"
          },
          "hoverlabel": {
           "align": "left"
          },
          "hovermode": "closest",
          "mapbox": {
           "style": "light"
          },
          "paper_bgcolor": "white",
          "plot_bgcolor": "#E5ECF6",
          "polar": {
           "angularaxis": {
            "gridcolor": "white",
            "linecolor": "white",
            "ticks": ""
           },
           "bgcolor": "#E5ECF6",
           "radialaxis": {
            "gridcolor": "white",
            "linecolor": "white",
            "ticks": ""
           }
          },
          "scene": {
           "xaxis": {
            "backgroundcolor": "#E5ECF6",
            "gridcolor": "white",
            "gridwidth": 2,
            "linecolor": "white",
            "showbackground": true,
            "ticks": "",
            "zerolinecolor": "white"
           },
           "yaxis": {
            "backgroundcolor": "#E5ECF6",
            "gridcolor": "white",
            "gridwidth": 2,
            "linecolor": "white",
            "showbackground": true,
            "ticks": "",
            "zerolinecolor": "white"
           },
           "zaxis": {
            "backgroundcolor": "#E5ECF6",
            "gridcolor": "white",
            "gridwidth": 2,
            "linecolor": "white",
            "showbackground": true,
            "ticks": "",
            "zerolinecolor": "white"
           }
          },
          "shapedefaults": {
           "line": {
            "color": "#2a3f5f"
           }
          },
          "ternary": {
           "aaxis": {
            "gridcolor": "white",
            "linecolor": "white",
            "ticks": ""
           },
           "baxis": {
            "gridcolor": "white",
            "linecolor": "white",
            "ticks": ""
           },
           "bgcolor": "#E5ECF6",
           "caxis": {
            "gridcolor": "white",
            "linecolor": "white",
            "ticks": ""
           }
          },
          "title": {
           "x": 0.05
          },
          "xaxis": {
           "automargin": true,
           "gridcolor": "white",
           "linecolor": "white",
           "ticks": "",
           "title": {
            "standoff": 15
           },
           "zerolinecolor": "white",
           "zerolinewidth": 2
          },
          "yaxis": {
           "automargin": true,
           "gridcolor": "white",
           "linecolor": "white",
           "ticks": "",
           "title": {
            "standoff": 15
           },
           "zerolinecolor": "white",
           "zerolinewidth": 2
          }
         }
        },
        "title": {
         "text": "<b>Proporção de fiscalizações, por tipo de posto</b><br>(01/2018 - 06/2023)"
        },
        "width": 500,
        "xaxis": {
         "anchor": "y",
         "categoryarray": [
          "EMBANDEIRADO",
          "BANDEIRA BRANCA"
         ],
         "categoryorder": "array",
         "color": "black",
         "domain": [
          0,
          1
         ],
         "gridcolor": "white",
         "linecolor": "black",
         "mirror": true,
         "ticksuffix": "    ",
         "title": {
          "font": {
           "color": "black",
           "size": 12
          },
          "text": "Posto"
         },
         "type": "category"
        },
        "yaxis": {
         "anchor": "x",
         "color": "black",
         "domain": [
          0,
          1
         ],
         "gridcolor": "white",
         "linecolor": "black",
         "mirror": true,
         "range": [
          0,
          0.7
         ],
         "showticklabels": false,
         "ticksuffix": "    ",
         "title": {
          "font": {
           "color": "black",
           "size": 12
          },
          "text": "Proporção"
         },
         "visible": true
        }
       }
      }
     },
     "metadata": {},
     "output_type": "display_data"
    }
   ],
   "source": [
    "fig = px.bar(percent_bandeira,\n",
    "              x = 'BANDEIRA',\n",
    "              y = 'proportion',\n",
    "              color = 'BANDEIRA',\n",
    "              color_discrete_sequence=['rgb(29,60,67)', 'rgb(84,116,117)'],\n",
    "              text = 'proportion',\n",
    "              labels = {'proportion': 'Proporção', 'BANDEIRA': 'Posto'})\n",
    "\n",
    "fig.update_layout({\n",
    "    'plot_bgcolor': 'rgba(255, 255, 255, 255)',\n",
    "    'paper_bgcolor': 'rgba(255, 255, 255, 255)',\n",
    "    'yaxis':{'visible': True},\n",
    "    'xaxis':{'type':'category'}\n",
    "})\n",
    "\n",
    "# increase top margin\n",
    "fig.update_layout(margin=dict(t=110))\n",
    "\n",
    "# add title\n",
    "fig.update_layout(title_text=\"<b>Proporção de fiscalizações, por tipo de posto</b><br>(01/2018 - 06/2023)\", \n",
    "                  font=dict(size=11.5, color='black'))\n",
    "\n",
    "#fig.for_each_annotation(lambda a: a.update(text=a.text.split(\"=\")[-1]))\n",
    "\n",
    "fig.add_annotation(x=-0.17, \n",
    "                   y=1.07,\n",
    "                   xref='paper', \n",
    "                   yref='paper', \n",
    "                   text='<b>Fonte:</b> ANP / <b>Elaboração:</b> Felipe Lamarca', \n",
    "                   showarrow=False, \n",
    "                   font=dict(size=12, color='black'))\n",
    "\n",
    "fig.update_yaxes(ticksuffix = \"    \",  \n",
    "                 linecolor = 'black', \n",
    "                 gridcolor = 'white', \n",
    "                 mirror = True, \n",
    "                 color = 'black',\n",
    "                 showticklabels = False,\n",
    "                 title_font=dict(size=12, color='black'),\n",
    "                 range=[0, 0.7])\n",
    "\n",
    "fig.update_xaxes(ticksuffix = \"    \",  \n",
    "                 linecolor = 'black', \n",
    "                 gridcolor = 'white', \n",
    "                 mirror = True, \n",
    "                 color = 'black',\n",
    "                 title_font=dict(size=12, color='black'))\n",
    "\n",
    "fig.update_layout(width=500, \n",
    "                  height=600, \n",
    "                  showlegend=False)\n",
    "\n",
    "fig.update_traces(texttemplate='%{text:.2%}', \n",
    "                  textposition='outside', \n",
    "                  textfont = {'color': 'black', 'size': 13})\n",
    "\n",
    "fig.show()\n",
    "\n",
    "fig.write_image(\"../images/prop-fiscalizacao.png\", scale=1)"
   ]
  },
  {
   "cell_type": "code",
   "execution_count": 79,
   "metadata": {},
   "outputs": [
    {
     "data": {
      "text/html": [
       "<div>\n",
       "<style scoped>\n",
       "    .dataframe tbody tr th:only-of-type {\n",
       "        vertical-align: middle;\n",
       "    }\n",
       "\n",
       "    .dataframe tbody tr th {\n",
       "        vertical-align: top;\n",
       "    }\n",
       "\n",
       "    .dataframe thead th {\n",
       "        text-align: right;\n",
       "    }\n",
       "</style>\n",
       "<table border=\"1\" class=\"dataframe\">\n",
       "  <thead>\n",
       "    <tr style=\"text-align: right;\">\n",
       "      <th></th>\n",
       "      <th>BANDEIRA</th>\n",
       "      <th>Município</th>\n",
       "      <th>count</th>\n",
       "      <th>total</th>\n",
       "      <th>proportion</th>\n",
       "    </tr>\n",
       "  </thead>\n",
       "  <tbody>\n",
       "    <tr>\n",
       "      <th>0</th>\n",
       "      <td>BANDEIRA BRANCA</td>\n",
       "      <td>BRASILIA</td>\n",
       "      <td>904</td>\n",
       "      <td>5047</td>\n",
       "      <td>0.179116</td>\n",
       "    </tr>\n",
       "    <tr>\n",
       "      <th>1</th>\n",
       "      <td>EMBANDEIRADO</td>\n",
       "      <td>BRASILIA</td>\n",
       "      <td>4143</td>\n",
       "      <td>5047</td>\n",
       "      <td>0.820884</td>\n",
       "    </tr>\n",
       "    <tr>\n",
       "      <th>2</th>\n",
       "      <td>BANDEIRA BRANCA</td>\n",
       "      <td>RIO DE JANEIRO</td>\n",
       "      <td>3949</td>\n",
       "      <td>9383</td>\n",
       "      <td>0.420868</td>\n",
       "    </tr>\n",
       "    <tr>\n",
       "      <th>3</th>\n",
       "      <td>EMBANDEIRADO</td>\n",
       "      <td>RIO DE JANEIRO</td>\n",
       "      <td>5434</td>\n",
       "      <td>9383</td>\n",
       "      <td>0.579132</td>\n",
       "    </tr>\n",
       "    <tr>\n",
       "      <th>4</th>\n",
       "      <td>BANDEIRA BRANCA</td>\n",
       "      <td>SAO PAULO</td>\n",
       "      <td>6544</td>\n",
       "      <td>16879</td>\n",
       "      <td>0.387701</td>\n",
       "    </tr>\n",
       "    <tr>\n",
       "      <th>5</th>\n",
       "      <td>EMBANDEIRADO</td>\n",
       "      <td>SAO PAULO</td>\n",
       "      <td>10335</td>\n",
       "      <td>16879</td>\n",
       "      <td>0.612299</td>\n",
       "    </tr>\n",
       "  </tbody>\n",
       "</table>\n",
       "</div>"
      ],
      "text/plain": [
       "          BANDEIRA       Município  count  total  proportion\n",
       "0  BANDEIRA BRANCA        BRASILIA    904   5047    0.179116\n",
       "1     EMBANDEIRADO        BRASILIA   4143   5047    0.820884\n",
       "2  BANDEIRA BRANCA  RIO DE JANEIRO   3949   9383    0.420868\n",
       "3     EMBANDEIRADO  RIO DE JANEIRO   5434   9383    0.579132\n",
       "4  BANDEIRA BRANCA       SAO PAULO   6544  16879    0.387701\n",
       "5     EMBANDEIRADO       SAO PAULO  10335  16879    0.612299"
      ]
     },
     "execution_count": 79,
     "metadata": {},
     "output_type": "execute_result"
    }
   ],
   "source": [
    "por_municipio = df.groupby([\"BANDEIRA\", \"Município\"]).size().reset_index(name=\"count\")\n",
    "por_municipio = por_municipio.query(\"Município.isin(['SAO PAULO', 'RIO DE JANEIRO', 'BRASILIA'])\")\n",
    "\n",
    "total_fiscalizacoes = por_municipio.groupby(\"Município\")[\"count\"].sum().reset_index(name = \"total\")\n",
    "\n",
    "por_municipio = pd.merge(por_municipio, total_fiscalizacoes, on=\"Município\", how=\"inner\")\n",
    "\n",
    "por_municipio[\"proportion\"] = por_municipio[\"count\"] / por_municipio[\"total\"]\n",
    "\n",
    "por_municipio"
   ]
  },
  {
   "cell_type": "code",
   "execution_count": 80,
   "metadata": {},
   "outputs": [
    {
     "data": {
      "application/vnd.plotly.v1+json": {
       "config": {
        "plotlyServerURL": "https://plot.ly"
       },
       "data": [
        {
         "alignmentgroup": "True",
         "hovertemplate": "Posto=%{x}<br>Município=BRASILIA<br>Proporção=%{text}<extra></extra>",
         "legendgroup": "BANDEIRA BRANCA",
         "marker": {
          "color": "rgb(84,116,117)",
          "pattern": {
           "shape": ""
          }
         },
         "name": "BANDEIRA BRANCA",
         "offsetgroup": "BANDEIRA BRANCA",
         "orientation": "v",
         "showlegend": true,
         "text": [
          0.1791163067168615
         ],
         "textfont": {
          "color": "black",
          "size": 13
         },
         "textposition": "outside",
         "texttemplate": "%{text:.2%}",
         "type": "bar",
         "x": [
          "BANDEIRA BRANCA"
         ],
         "xaxis": "x",
         "y": [
          0.1791163067168615
         ],
         "yaxis": "y"
        },
        {
         "alignmentgroup": "True",
         "hovertemplate": "Posto=%{x}<br>Município=RIO DE JANEIRO<br>Proporção=%{text}<extra></extra>",
         "legendgroup": "BANDEIRA BRANCA",
         "marker": {
          "color": "rgb(84,116,117)",
          "pattern": {
           "shape": ""
          }
         },
         "name": "BANDEIRA BRANCA",
         "offsetgroup": "BANDEIRA BRANCA",
         "orientation": "v",
         "showlegend": false,
         "text": [
          0.4208675263774912
         ],
         "textfont": {
          "color": "black",
          "size": 13
         },
         "textposition": "outside",
         "texttemplate": "%{text:.2%}",
         "type": "bar",
         "x": [
          "BANDEIRA BRANCA"
         ],
         "xaxis": "x2",
         "y": [
          0.4208675263774912
         ],
         "yaxis": "y2"
        },
        {
         "alignmentgroup": "True",
         "hovertemplate": "Posto=%{x}<br>Município=SAO PAULO<br>Proporção=%{text}<extra></extra>",
         "legendgroup": "BANDEIRA BRANCA",
         "marker": {
          "color": "rgb(84,116,117)",
          "pattern": {
           "shape": ""
          }
         },
         "name": "BANDEIRA BRANCA",
         "offsetgroup": "BANDEIRA BRANCA",
         "orientation": "v",
         "showlegend": false,
         "text": [
          0.3877006931690266
         ],
         "textfont": {
          "color": "black",
          "size": 13
         },
         "textposition": "outside",
         "texttemplate": "%{text:.2%}",
         "type": "bar",
         "x": [
          "BANDEIRA BRANCA"
         ],
         "xaxis": "x3",
         "y": [
          0.3877006931690266
         ],
         "yaxis": "y3"
        },
        {
         "alignmentgroup": "True",
         "hovertemplate": "Posto=%{x}<br>Município=BRASILIA<br>Proporção=%{text}<extra></extra>",
         "legendgroup": "EMBANDEIRADO",
         "marker": {
          "color": "rgb(29,60,67)",
          "pattern": {
           "shape": ""
          }
         },
         "name": "EMBANDEIRADO",
         "offsetgroup": "EMBANDEIRADO",
         "orientation": "v",
         "showlegend": true,
         "text": [
          0.8208836932831385
         ],
         "textfont": {
          "color": "black",
          "size": 13
         },
         "textposition": "outside",
         "texttemplate": "%{text:.2%}",
         "type": "bar",
         "x": [
          "EMBANDEIRADO"
         ],
         "xaxis": "x",
         "y": [
          0.8208836932831385
         ],
         "yaxis": "y"
        },
        {
         "alignmentgroup": "True",
         "hovertemplate": "Posto=%{x}<br>Município=RIO DE JANEIRO<br>Proporção=%{text}<extra></extra>",
         "legendgroup": "EMBANDEIRADO",
         "marker": {
          "color": "rgb(29,60,67)",
          "pattern": {
           "shape": ""
          }
         },
         "name": "EMBANDEIRADO",
         "offsetgroup": "EMBANDEIRADO",
         "orientation": "v",
         "showlegend": false,
         "text": [
          0.5791324736225087
         ],
         "textfont": {
          "color": "black",
          "size": 13
         },
         "textposition": "outside",
         "texttemplate": "%{text:.2%}",
         "type": "bar",
         "x": [
          "EMBANDEIRADO"
         ],
         "xaxis": "x2",
         "y": [
          0.5791324736225087
         ],
         "yaxis": "y2"
        },
        {
         "alignmentgroup": "True",
         "hovertemplate": "Posto=%{x}<br>Município=SAO PAULO<br>Proporção=%{text}<extra></extra>",
         "legendgroup": "EMBANDEIRADO",
         "marker": {
          "color": "rgb(29,60,67)",
          "pattern": {
           "shape": ""
          }
         },
         "name": "EMBANDEIRADO",
         "offsetgroup": "EMBANDEIRADO",
         "orientation": "v",
         "showlegend": false,
         "text": [
          0.6122993068309734
         ],
         "textfont": {
          "color": "black",
          "size": 13
         },
         "textposition": "outside",
         "texttemplate": "%{text:.2%}",
         "type": "bar",
         "x": [
          "EMBANDEIRADO"
         ],
         "xaxis": "x3",
         "y": [
          0.6122993068309734
         ],
         "yaxis": "y3"
        }
       ],
       "layout": {
        "annotations": [
         {
          "showarrow": false,
          "text": "BRASILIA",
          "x": 0.15999999999999998,
          "xanchor": "center",
          "xref": "paper",
          "y": 1,
          "yanchor": "bottom",
          "yref": "paper"
         },
         {
          "showarrow": false,
          "text": "RIO DE JANEIRO",
          "x": 0.49999999999999994,
          "xanchor": "center",
          "xref": "paper",
          "y": 1,
          "yanchor": "bottom",
          "yref": "paper"
         },
         {
          "showarrow": false,
          "text": "SAO PAULO",
          "x": 0.8399999999999999,
          "xanchor": "center",
          "xref": "paper",
          "y": 1,
          "yanchor": "bottom",
          "yref": "paper"
         },
         {
          "font": {
           "color": "black",
           "size": 14
          },
          "showarrow": false,
          "text": "Brasília, Rio de Janeiro e São Paulo",
          "x": -0.04,
          "xref": "paper",
          "y": 1.26,
          "yref": "paper"
         },
         {
          "font": {
           "color": "black",
           "size": 12
          },
          "showarrow": false,
          "text": "<b>Fonte:</b> ANP | <b>Elaboração:</b> Felipe Lamarca",
          "x": -0.04,
          "xref": "paper",
          "y": 1.17,
          "yref": "paper"
         }
        ],
        "barmode": "relative",
        "font": {
         "color": "black",
         "size": 11.5
        },
        "height": 500,
        "legend": {
         "title": {
          "text": "Posto"
         },
         "tracegroupgap": 0
        },
        "margin": {
         "t": 150
        },
        "paper_bgcolor": "rgba(255, 255, 255, 255)",
        "plot_bgcolor": "rgba(255, 255, 255, 255)",
        "showlegend": false,
        "template": {
         "data": {
          "bar": [
           {
            "error_x": {
             "color": "#2a3f5f"
            },
            "error_y": {
             "color": "#2a3f5f"
            },
            "marker": {
             "line": {
              "color": "#E5ECF6",
              "width": 0.5
             },
             "pattern": {
              "fillmode": "overlay",
              "size": 10,
              "solidity": 0.2
             }
            },
            "type": "bar"
           }
          ],
          "barpolar": [
           {
            "marker": {
             "line": {
              "color": "#E5ECF6",
              "width": 0.5
             },
             "pattern": {
              "fillmode": "overlay",
              "size": 10,
              "solidity": 0.2
             }
            },
            "type": "barpolar"
           }
          ],
          "carpet": [
           {
            "aaxis": {
             "endlinecolor": "#2a3f5f",
             "gridcolor": "white",
             "linecolor": "white",
             "minorgridcolor": "white",
             "startlinecolor": "#2a3f5f"
            },
            "baxis": {
             "endlinecolor": "#2a3f5f",
             "gridcolor": "white",
             "linecolor": "white",
             "minorgridcolor": "white",
             "startlinecolor": "#2a3f5f"
            },
            "type": "carpet"
           }
          ],
          "choropleth": [
           {
            "colorbar": {
             "outlinewidth": 0,
             "ticks": ""
            },
            "type": "choropleth"
           }
          ],
          "contour": [
           {
            "colorbar": {
             "outlinewidth": 0,
             "ticks": ""
            },
            "colorscale": [
             [
              0,
              "#0d0887"
             ],
             [
              0.1111111111111111,
              "#46039f"
             ],
             [
              0.2222222222222222,
              "#7201a8"
             ],
             [
              0.3333333333333333,
              "#9c179e"
             ],
             [
              0.4444444444444444,
              "#bd3786"
             ],
             [
              0.5555555555555556,
              "#d8576b"
             ],
             [
              0.6666666666666666,
              "#ed7953"
             ],
             [
              0.7777777777777778,
              "#fb9f3a"
             ],
             [
              0.8888888888888888,
              "#fdca26"
             ],
             [
              1,
              "#f0f921"
             ]
            ],
            "type": "contour"
           }
          ],
          "contourcarpet": [
           {
            "colorbar": {
             "outlinewidth": 0,
             "ticks": ""
            },
            "type": "contourcarpet"
           }
          ],
          "heatmap": [
           {
            "colorbar": {
             "outlinewidth": 0,
             "ticks": ""
            },
            "colorscale": [
             [
              0,
              "#0d0887"
             ],
             [
              0.1111111111111111,
              "#46039f"
             ],
             [
              0.2222222222222222,
              "#7201a8"
             ],
             [
              0.3333333333333333,
              "#9c179e"
             ],
             [
              0.4444444444444444,
              "#bd3786"
             ],
             [
              0.5555555555555556,
              "#d8576b"
             ],
             [
              0.6666666666666666,
              "#ed7953"
             ],
             [
              0.7777777777777778,
              "#fb9f3a"
             ],
             [
              0.8888888888888888,
              "#fdca26"
             ],
             [
              1,
              "#f0f921"
             ]
            ],
            "type": "heatmap"
           }
          ],
          "heatmapgl": [
           {
            "colorbar": {
             "outlinewidth": 0,
             "ticks": ""
            },
            "colorscale": [
             [
              0,
              "#0d0887"
             ],
             [
              0.1111111111111111,
              "#46039f"
             ],
             [
              0.2222222222222222,
              "#7201a8"
             ],
             [
              0.3333333333333333,
              "#9c179e"
             ],
             [
              0.4444444444444444,
              "#bd3786"
             ],
             [
              0.5555555555555556,
              "#d8576b"
             ],
             [
              0.6666666666666666,
              "#ed7953"
             ],
             [
              0.7777777777777778,
              "#fb9f3a"
             ],
             [
              0.8888888888888888,
              "#fdca26"
             ],
             [
              1,
              "#f0f921"
             ]
            ],
            "type": "heatmapgl"
           }
          ],
          "histogram": [
           {
            "marker": {
             "pattern": {
              "fillmode": "overlay",
              "size": 10,
              "solidity": 0.2
             }
            },
            "type": "histogram"
           }
          ],
          "histogram2d": [
           {
            "colorbar": {
             "outlinewidth": 0,
             "ticks": ""
            },
            "colorscale": [
             [
              0,
              "#0d0887"
             ],
             [
              0.1111111111111111,
              "#46039f"
             ],
             [
              0.2222222222222222,
              "#7201a8"
             ],
             [
              0.3333333333333333,
              "#9c179e"
             ],
             [
              0.4444444444444444,
              "#bd3786"
             ],
             [
              0.5555555555555556,
              "#d8576b"
             ],
             [
              0.6666666666666666,
              "#ed7953"
             ],
             [
              0.7777777777777778,
              "#fb9f3a"
             ],
             [
              0.8888888888888888,
              "#fdca26"
             ],
             [
              1,
              "#f0f921"
             ]
            ],
            "type": "histogram2d"
           }
          ],
          "histogram2dcontour": [
           {
            "colorbar": {
             "outlinewidth": 0,
             "ticks": ""
            },
            "colorscale": [
             [
              0,
              "#0d0887"
             ],
             [
              0.1111111111111111,
              "#46039f"
             ],
             [
              0.2222222222222222,
              "#7201a8"
             ],
             [
              0.3333333333333333,
              "#9c179e"
             ],
             [
              0.4444444444444444,
              "#bd3786"
             ],
             [
              0.5555555555555556,
              "#d8576b"
             ],
             [
              0.6666666666666666,
              "#ed7953"
             ],
             [
              0.7777777777777778,
              "#fb9f3a"
             ],
             [
              0.8888888888888888,
              "#fdca26"
             ],
             [
              1,
              "#f0f921"
             ]
            ],
            "type": "histogram2dcontour"
           }
          ],
          "mesh3d": [
           {
            "colorbar": {
             "outlinewidth": 0,
             "ticks": ""
            },
            "type": "mesh3d"
           }
          ],
          "parcoords": [
           {
            "line": {
             "colorbar": {
              "outlinewidth": 0,
              "ticks": ""
             }
            },
            "type": "parcoords"
           }
          ],
          "pie": [
           {
            "automargin": true,
            "type": "pie"
           }
          ],
          "scatter": [
           {
            "fillpattern": {
             "fillmode": "overlay",
             "size": 10,
             "solidity": 0.2
            },
            "type": "scatter"
           }
          ],
          "scatter3d": [
           {
            "line": {
             "colorbar": {
              "outlinewidth": 0,
              "ticks": ""
             }
            },
            "marker": {
             "colorbar": {
              "outlinewidth": 0,
              "ticks": ""
             }
            },
            "type": "scatter3d"
           }
          ],
          "scattercarpet": [
           {
            "marker": {
             "colorbar": {
              "outlinewidth": 0,
              "ticks": ""
             }
            },
            "type": "scattercarpet"
           }
          ],
          "scattergeo": [
           {
            "marker": {
             "colorbar": {
              "outlinewidth": 0,
              "ticks": ""
             }
            },
            "type": "scattergeo"
           }
          ],
          "scattergl": [
           {
            "marker": {
             "colorbar": {
              "outlinewidth": 0,
              "ticks": ""
             }
            },
            "type": "scattergl"
           }
          ],
          "scattermapbox": [
           {
            "marker": {
             "colorbar": {
              "outlinewidth": 0,
              "ticks": ""
             }
            },
            "type": "scattermapbox"
           }
          ],
          "scatterpolar": [
           {
            "marker": {
             "colorbar": {
              "outlinewidth": 0,
              "ticks": ""
             }
            },
            "type": "scatterpolar"
           }
          ],
          "scatterpolargl": [
           {
            "marker": {
             "colorbar": {
              "outlinewidth": 0,
              "ticks": ""
             }
            },
            "type": "scatterpolargl"
           }
          ],
          "scatterternary": [
           {
            "marker": {
             "colorbar": {
              "outlinewidth": 0,
              "ticks": ""
             }
            },
            "type": "scatterternary"
           }
          ],
          "surface": [
           {
            "colorbar": {
             "outlinewidth": 0,
             "ticks": ""
            },
            "colorscale": [
             [
              0,
              "#0d0887"
             ],
             [
              0.1111111111111111,
              "#46039f"
             ],
             [
              0.2222222222222222,
              "#7201a8"
             ],
             [
              0.3333333333333333,
              "#9c179e"
             ],
             [
              0.4444444444444444,
              "#bd3786"
             ],
             [
              0.5555555555555556,
              "#d8576b"
             ],
             [
              0.6666666666666666,
              "#ed7953"
             ],
             [
              0.7777777777777778,
              "#fb9f3a"
             ],
             [
              0.8888888888888888,
              "#fdca26"
             ],
             [
              1,
              "#f0f921"
             ]
            ],
            "type": "surface"
           }
          ],
          "table": [
           {
            "cells": {
             "fill": {
              "color": "#EBF0F8"
             },
             "line": {
              "color": "white"
             }
            },
            "header": {
             "fill": {
              "color": "#C8D4E3"
             },
             "line": {
              "color": "white"
             }
            },
            "type": "table"
           }
          ]
         },
         "layout": {
          "annotationdefaults": {
           "arrowcolor": "#2a3f5f",
           "arrowhead": 0,
           "arrowwidth": 1
          },
          "autotypenumbers": "strict",
          "coloraxis": {
           "colorbar": {
            "outlinewidth": 0,
            "ticks": ""
           }
          },
          "colorscale": {
           "diverging": [
            [
             0,
             "#8e0152"
            ],
            [
             0.1,
             "#c51b7d"
            ],
            [
             0.2,
             "#de77ae"
            ],
            [
             0.3,
             "#f1b6da"
            ],
            [
             0.4,
             "#fde0ef"
            ],
            [
             0.5,
             "#f7f7f7"
            ],
            [
             0.6,
             "#e6f5d0"
            ],
            [
             0.7,
             "#b8e186"
            ],
            [
             0.8,
             "#7fbc41"
            ],
            [
             0.9,
             "#4d9221"
            ],
            [
             1,
             "#276419"
            ]
           ],
           "sequential": [
            [
             0,
             "#0d0887"
            ],
            [
             0.1111111111111111,
             "#46039f"
            ],
            [
             0.2222222222222222,
             "#7201a8"
            ],
            [
             0.3333333333333333,
             "#9c179e"
            ],
            [
             0.4444444444444444,
             "#bd3786"
            ],
            [
             0.5555555555555556,
             "#d8576b"
            ],
            [
             0.6666666666666666,
             "#ed7953"
            ],
            [
             0.7777777777777778,
             "#fb9f3a"
            ],
            [
             0.8888888888888888,
             "#fdca26"
            ],
            [
             1,
             "#f0f921"
            ]
           ],
           "sequentialminus": [
            [
             0,
             "#0d0887"
            ],
            [
             0.1111111111111111,
             "#46039f"
            ],
            [
             0.2222222222222222,
             "#7201a8"
            ],
            [
             0.3333333333333333,
             "#9c179e"
            ],
            [
             0.4444444444444444,
             "#bd3786"
            ],
            [
             0.5555555555555556,
             "#d8576b"
            ],
            [
             0.6666666666666666,
             "#ed7953"
            ],
            [
             0.7777777777777778,
             "#fb9f3a"
            ],
            [
             0.8888888888888888,
             "#fdca26"
            ],
            [
             1,
             "#f0f921"
            ]
           ]
          },
          "colorway": [
           "#636efa",
           "#EF553B",
           "#00cc96",
           "#ab63fa",
           "#FFA15A",
           "#19d3f3",
           "#FF6692",
           "#B6E880",
           "#FF97FF",
           "#FECB52"
          ],
          "font": {
           "color": "#2a3f5f"
          },
          "geo": {
           "bgcolor": "white",
           "lakecolor": "white",
           "landcolor": "#E5ECF6",
           "showlakes": true,
           "showland": true,
           "subunitcolor": "white"
          },
          "hoverlabel": {
           "align": "left"
          },
          "hovermode": "closest",
          "mapbox": {
           "style": "light"
          },
          "paper_bgcolor": "white",
          "plot_bgcolor": "#E5ECF6",
          "polar": {
           "angularaxis": {
            "gridcolor": "white",
            "linecolor": "white",
            "ticks": ""
           },
           "bgcolor": "#E5ECF6",
           "radialaxis": {
            "gridcolor": "white",
            "linecolor": "white",
            "ticks": ""
           }
          },
          "scene": {
           "xaxis": {
            "backgroundcolor": "#E5ECF6",
            "gridcolor": "white",
            "gridwidth": 2,
            "linecolor": "white",
            "showbackground": true,
            "ticks": "",
            "zerolinecolor": "white"
           },
           "yaxis": {
            "backgroundcolor": "#E5ECF6",
            "gridcolor": "white",
            "gridwidth": 2,
            "linecolor": "white",
            "showbackground": true,
            "ticks": "",
            "zerolinecolor": "white"
           },
           "zaxis": {
            "backgroundcolor": "#E5ECF6",
            "gridcolor": "white",
            "gridwidth": 2,
            "linecolor": "white",
            "showbackground": true,
            "ticks": "",
            "zerolinecolor": "white"
           }
          },
          "shapedefaults": {
           "line": {
            "color": "#2a3f5f"
           }
          },
          "ternary": {
           "aaxis": {
            "gridcolor": "white",
            "linecolor": "white",
            "ticks": ""
           },
           "baxis": {
            "gridcolor": "white",
            "linecolor": "white",
            "ticks": ""
           },
           "bgcolor": "#E5ECF6",
           "caxis": {
            "gridcolor": "white",
            "linecolor": "white",
            "ticks": ""
           }
          },
          "title": {
           "x": 0.05
          },
          "xaxis": {
           "automargin": true,
           "gridcolor": "white",
           "linecolor": "white",
           "ticks": "",
           "title": {
            "standoff": 15
           },
           "zerolinecolor": "white",
           "zerolinewidth": 2
          },
          "yaxis": {
           "automargin": true,
           "gridcolor": "white",
           "linecolor": "white",
           "ticks": "",
           "title": {
            "standoff": 15
           },
           "zerolinecolor": "white",
           "zerolinewidth": 2
          }
         }
        },
        "title": {
         "text": "<b>Proporção de fiscalizações, por tipo de posto</b> (01/2018 - 06/2023)"
        },
        "width": 1000,
        "xaxis": {
         "anchor": "y",
         "categoryarray": [
          "BANDEIRA BRANCA",
          "EMBANDEIRADO"
         ],
         "categoryorder": "array",
         "color": "black",
         "domain": [
          0,
          0.31999999999999995
         ],
         "gridcolor": "white",
         "linecolor": "black",
         "mirror": true,
         "ticksuffix": "    ",
         "title": {
          "font": {
           "color": "black",
           "size": 12
          },
          "text": "Posto"
         },
         "type": "category"
        },
        "xaxis2": {
         "anchor": "y2",
         "categoryarray": [
          "BANDEIRA BRANCA",
          "EMBANDEIRADO"
         ],
         "categoryorder": "array",
         "color": "black",
         "domain": [
          0.33999999999999997,
          0.6599999999999999
         ],
         "gridcolor": "white",
         "linecolor": "black",
         "matches": "x",
         "mirror": true,
         "ticksuffix": "    ",
         "title": {
          "font": {
           "color": "black",
           "size": 12
          },
          "text": "Posto"
         }
        },
        "xaxis3": {
         "anchor": "y3",
         "categoryarray": [
          "BANDEIRA BRANCA",
          "EMBANDEIRADO"
         ],
         "categoryorder": "array",
         "color": "black",
         "domain": [
          0.6799999999999999,
          0.9999999999999999
         ],
         "gridcolor": "white",
         "linecolor": "black",
         "matches": "x",
         "mirror": true,
         "ticksuffix": "    ",
         "title": {
          "font": {
           "color": "black",
           "size": 12
          },
          "text": "Posto"
         }
        },
        "yaxis": {
         "anchor": "x",
         "color": "black",
         "domain": [
          0,
          1
         ],
         "gridcolor": "white",
         "linecolor": "black",
         "mirror": true,
         "range": [
          0,
          1
         ],
         "showticklabels": false,
         "ticksuffix": "    ",
         "title": {
          "font": {
           "color": "black",
           "size": 12
          },
          "text": "Proporção"
         },
         "visible": true
        },
        "yaxis2": {
         "anchor": "x2",
         "color": "black",
         "domain": [
          0,
          1
         ],
         "gridcolor": "white",
         "linecolor": "black",
         "matches": "y",
         "mirror": true,
         "range": [
          0,
          1
         ],
         "showticklabels": false,
         "ticksuffix": "    ",
         "title": {
          "font": {
           "color": "black",
           "size": 12
          }
         }
        },
        "yaxis3": {
         "anchor": "x3",
         "color": "black",
         "domain": [
          0,
          1
         ],
         "gridcolor": "white",
         "linecolor": "black",
         "matches": "y",
         "mirror": true,
         "range": [
          0,
          1
         ],
         "showticklabels": false,
         "ticksuffix": "    ",
         "title": {
          "font": {
           "color": "black",
           "size": 12
          }
         }
        }
       }
      }
     },
     "metadata": {},
     "output_type": "display_data"
    }
   ],
   "source": [
    "fig = px.bar(por_municipio,\n",
    "              x = 'BANDEIRA',\n",
    "              y = 'proportion',\n",
    "              color = 'BANDEIRA',\n",
    "              color_discrete_sequence=['rgb(84,116,117)', 'rgb(29,60,67)'],\n",
    "              text = 'proportion',\n",
    "              facet_col='Município',\n",
    "              facet_col_wrap=3,\n",
    "              labels = {'proportion': 'Proporção', 'BANDEIRA': 'Posto'})\n",
    "\n",
    "fig.update_layout({\n",
    "    'plot_bgcolor': 'rgba(255, 255, 255, 255)',\n",
    "    'paper_bgcolor': 'rgba(255, 255, 255, 255)',\n",
    "    'yaxis':{'visible': True},\n",
    "    'xaxis':{'type':'category'}\n",
    "})\n",
    "\n",
    "# increase top margin\n",
    "fig.update_layout(margin=dict(t=150))\n",
    "\n",
    "# add title\n",
    "fig.update_layout(title_text=\"<b>Proporção de fiscalizações, por tipo de posto</b> (01/2018 - 06/2023)\", \n",
    "                  font=dict(size=11.5, color='black'))\n",
    "\n",
    "fig.for_each_annotation(lambda a: a.update(text=a.text.split(\"=\")[-1]))\n",
    "\n",
    "fig.add_annotation(x=-0.04, \n",
    "                   y=1.26,\n",
    "                   xref='paper', \n",
    "                   yref='paper', \n",
    "                   text='Brasília, Rio de Janeiro e São Paulo', \n",
    "                   showarrow=False, \n",
    "                   font=dict(size=14, color='black'))\n",
    "\n",
    "fig.add_annotation(x=-0.04, \n",
    "                   y=1.17,\n",
    "                   xref='paper', \n",
    "                   yref='paper', \n",
    "                   text='<b>Fonte:</b> ANP | <b>Elaboração:</b> Felipe Lamarca', \n",
    "                   showarrow=False, \n",
    "                   font=dict(size=12, color='black'))\n",
    "\n",
    "fig.update_yaxes(ticksuffix = \"    \",  \n",
    "                 linecolor = 'black', \n",
    "                 gridcolor = 'white', \n",
    "                 mirror = True, \n",
    "                 color = 'black',\n",
    "                 showticklabels = False,\n",
    "                 title_font=dict(size=12, color='black'),\n",
    "                 range=[0, 1])\n",
    "\n",
    "fig.update_xaxes(ticksuffix = \"    \",  \n",
    "                 linecolor = 'black', \n",
    "                 gridcolor = 'white', \n",
    "                 mirror = True, \n",
    "                 color = 'black',\n",
    "                 title_font=dict(size=12, color='black'))\n",
    "\n",
    "fig.update_layout(width=1000, \n",
    "                  height=500, \n",
    "                  showlegend=False)\n",
    "\n",
    "fig.update_traces(texttemplate='%{text:.2%}', \n",
    "                  textposition='outside', \n",
    "                  textfont = {'color': 'black', 'size': 13})\n",
    "\n",
    "fig.show()\n",
    "\n",
    "fig.write_image(\"../images/prop-fiscalizacao-municipio.png\", scale=1)"
   ]
  },
  {
   "cell_type": "code",
   "execution_count": 81,
   "metadata": {},
   "outputs": [],
   "source": [
    "# turn Data DF into moth-year\n",
    "df[\"Data DF\"] = pd.to_datetime(df[\"Data DF\"], format=\"%m-%Y\").dt.to_period('M')\n",
    "df[\"Data DF\"] = df[\"Data DF\"].astype(str)"
   ]
  },
  {
   "cell_type": "code",
   "execution_count": 82,
   "metadata": {},
   "outputs": [],
   "source": [
    "por_mes = df.groupby([\"Data DF\", \"BANDEIRA\"]).size().reset_index(name=\"count\")\n",
    "por_mes = por_mes.sort_values(by=\"Data DF\")"
   ]
  },
  {
   "cell_type": "code",
   "execution_count": 83,
   "metadata": {},
   "outputs": [
    {
     "data": {
      "application/vnd.plotly.v1+json": {
       "config": {
        "plotlyServerURL": "https://plot.ly"
       },
       "data": [
        {
         "hovertemplate": "Posto=BANDEIRA BRANCA<br>Mês-Ano=%{x}<br># Fiscalizações=%{y}<extra></extra>",
         "legendgroup": "BANDEIRA BRANCA",
         "line": {
          "color": "rgb(84,116,117)",
          "dash": "solid"
         },
         "marker": {
          "symbol": "circle"
         },
         "mode": "lines",
         "name": "BANDEIRA BRANCA",
         "orientation": "v",
         "showlegend": true,
         "type": "scatter",
         "x": [
          "2018-01",
          "2018-02",
          "2018-03",
          "2018-04",
          "2018-05",
          "2018-06",
          "2018-07",
          "2018-08",
          "2018-09",
          "2018-10",
          "2018-11",
          "2018-12",
          "2019-01",
          "2019-02",
          "2019-03",
          "2019-04",
          "2019-05",
          "2019-06",
          "2019-07",
          "2019-08",
          "2019-09",
          "2019-10",
          "2019-11",
          "2019-12",
          "2020-01",
          "2020-02",
          "2020-03",
          "2020-04",
          "2020-05",
          "2020-06",
          "2020-07",
          "2020-08",
          "2020-09",
          "2020-10",
          "2020-11",
          "2020-12",
          "2021-01",
          "2021-02",
          "2021-03",
          "2021-04",
          "2021-05",
          "2021-06",
          "2021-07",
          "2021-08",
          "2021-09",
          "2021-10",
          "2021-11",
          "2021-12",
          "2022-01",
          "2022-02",
          "2022-03",
          "2022-04",
          "2022-05",
          "2022-06",
          "2022-07",
          "2022-08",
          "2022-09",
          "2022-10",
          "2022-11",
          "2022-12",
          "2023-01",
          "2023-02",
          "2023-03",
          "2023-04",
          "2023-05",
          "2023-06"
         ],
         "xaxis": "x",
         "y": [
          649,
          1033,
          1159,
          1057,
          1414,
          1012,
          1159,
          1057,
          872,
          993,
          452,
          573,
          811,
          1147,
          1065,
          1324,
          1238,
          1128,
          1530,
          1474,
          1468,
          1617,
          1146,
          829,
          1050,
          1379,
          2483,
          497,
          867,
          382,
          465,
          904,
          718,
          1525,
          1665,
          1248,
          930,
          1024,
          1706,
          1014,
          1590,
          1662,
          1721,
          1813,
          1589,
          1535,
          1430,
          1189,
          1092,
          1351,
          1871,
          1785,
          1733,
          1969,
          1818,
          2099,
          1569,
          1815,
          2041,
          1255,
          1292,
          1550,
          3067,
          1791,
          2746,
          2312
         ],
         "yaxis": "y"
        },
        {
         "hovertemplate": "Posto=EMBANDEIRADO<br>Mês-Ano=%{x}<br># Fiscalizações=%{y}<extra></extra>",
         "legendgroup": "EMBANDEIRADO",
         "line": {
          "color": "rgb(29,60,67)",
          "dash": "solid"
         },
         "marker": {
          "symbol": "circle"
         },
         "mode": "lines",
         "name": "EMBANDEIRADO",
         "orientation": "v",
         "showlegend": true,
         "type": "scatter",
         "x": [
          "2018-01",
          "2018-02",
          "2018-03",
          "2018-04",
          "2018-05",
          "2018-06",
          "2018-07",
          "2018-08",
          "2018-09",
          "2018-10",
          "2018-11",
          "2018-12",
          "2019-01",
          "2019-02",
          "2019-03",
          "2019-04",
          "2019-05",
          "2019-06",
          "2019-07",
          "2019-08",
          "2019-09",
          "2019-10",
          "2019-11",
          "2019-12",
          "2020-01",
          "2020-02",
          "2020-03",
          "2020-04",
          "2020-05",
          "2020-06",
          "2020-07",
          "2020-08",
          "2020-09",
          "2020-10",
          "2020-11",
          "2020-12",
          "2021-01",
          "2021-02",
          "2021-03",
          "2021-04",
          "2021-05",
          "2021-06",
          "2021-07",
          "2021-08",
          "2021-09",
          "2021-10",
          "2021-11",
          "2021-12",
          "2022-01",
          "2022-02",
          "2022-03",
          "2022-04",
          "2022-05",
          "2022-06",
          "2022-07",
          "2022-08",
          "2022-09",
          "2022-10",
          "2022-11",
          "2022-12",
          "2023-01",
          "2023-02",
          "2023-03",
          "2023-04",
          "2023-05",
          "2023-06"
         ],
         "xaxis": "x",
         "y": [
          822,
          999,
          1256,
          1145,
          1436,
          1458,
          1099,
          1136,
          822,
          1051,
          449,
          660,
          971,
          1347,
          1403,
          1469,
          1571,
          1151,
          1449,
          1686,
          1711,
          2032,
          1486,
          1082,
          1518,
          1952,
          2863,
          633,
          928,
          559,
          691,
          1259,
          1118,
          1960,
          2146,
          1731,
          1331,
          1557,
          2610,
          1689,
          2439,
          2434,
          2065,
          1887,
          2259,
          1600,
          1479,
          1331,
          1662,
          1964,
          3026,
          1883,
          2336,
          2050,
          2061,
          2322,
          1854,
          1740,
          2316,
          1532,
          1607,
          1929,
          4211,
          2042,
          3010,
          2557
         ],
         "yaxis": "y"
        }
       ],
       "layout": {
        "annotations": [
         {
          "font": {
           "color": "black",
           "size": 12
          },
          "showarrow": false,
          "text": "<b>Fonte:</b> ANP | <b>Elaboração:</b> Felipe Lamarca",
          "x": -0.055,
          "xref": "paper",
          "y": 1.11,
          "yref": "paper"
         }
        ],
        "font": {
         "color": "black",
         "size": 12
        },
        "height": 600,
        "legend": {
         "title": {
          "text": "Posto"
         },
         "tracegroupgap": 0
        },
        "margin": {
         "t": 100
        },
        "paper_bgcolor": "rgba(255, 255, 255, 255)",
        "plot_bgcolor": "rgba(255, 255, 255, 255)",
        "showlegend": true,
        "template": {
         "data": {
          "bar": [
           {
            "error_x": {
             "color": "#2a3f5f"
            },
            "error_y": {
             "color": "#2a3f5f"
            },
            "marker": {
             "line": {
              "color": "#E5ECF6",
              "width": 0.5
             },
             "pattern": {
              "fillmode": "overlay",
              "size": 10,
              "solidity": 0.2
             }
            },
            "type": "bar"
           }
          ],
          "barpolar": [
           {
            "marker": {
             "line": {
              "color": "#E5ECF6",
              "width": 0.5
             },
             "pattern": {
              "fillmode": "overlay",
              "size": 10,
              "solidity": 0.2
             }
            },
            "type": "barpolar"
           }
          ],
          "carpet": [
           {
            "aaxis": {
             "endlinecolor": "#2a3f5f",
             "gridcolor": "white",
             "linecolor": "white",
             "minorgridcolor": "white",
             "startlinecolor": "#2a3f5f"
            },
            "baxis": {
             "endlinecolor": "#2a3f5f",
             "gridcolor": "white",
             "linecolor": "white",
             "minorgridcolor": "white",
             "startlinecolor": "#2a3f5f"
            },
            "type": "carpet"
           }
          ],
          "choropleth": [
           {
            "colorbar": {
             "outlinewidth": 0,
             "ticks": ""
            },
            "type": "choropleth"
           }
          ],
          "contour": [
           {
            "colorbar": {
             "outlinewidth": 0,
             "ticks": ""
            },
            "colorscale": [
             [
              0,
              "#0d0887"
             ],
             [
              0.1111111111111111,
              "#46039f"
             ],
             [
              0.2222222222222222,
              "#7201a8"
             ],
             [
              0.3333333333333333,
              "#9c179e"
             ],
             [
              0.4444444444444444,
              "#bd3786"
             ],
             [
              0.5555555555555556,
              "#d8576b"
             ],
             [
              0.6666666666666666,
              "#ed7953"
             ],
             [
              0.7777777777777778,
              "#fb9f3a"
             ],
             [
              0.8888888888888888,
              "#fdca26"
             ],
             [
              1,
              "#f0f921"
             ]
            ],
            "type": "contour"
           }
          ],
          "contourcarpet": [
           {
            "colorbar": {
             "outlinewidth": 0,
             "ticks": ""
            },
            "type": "contourcarpet"
           }
          ],
          "heatmap": [
           {
            "colorbar": {
             "outlinewidth": 0,
             "ticks": ""
            },
            "colorscale": [
             [
              0,
              "#0d0887"
             ],
             [
              0.1111111111111111,
              "#46039f"
             ],
             [
              0.2222222222222222,
              "#7201a8"
             ],
             [
              0.3333333333333333,
              "#9c179e"
             ],
             [
              0.4444444444444444,
              "#bd3786"
             ],
             [
              0.5555555555555556,
              "#d8576b"
             ],
             [
              0.6666666666666666,
              "#ed7953"
             ],
             [
              0.7777777777777778,
              "#fb9f3a"
             ],
             [
              0.8888888888888888,
              "#fdca26"
             ],
             [
              1,
              "#f0f921"
             ]
            ],
            "type": "heatmap"
           }
          ],
          "heatmapgl": [
           {
            "colorbar": {
             "outlinewidth": 0,
             "ticks": ""
            },
            "colorscale": [
             [
              0,
              "#0d0887"
             ],
             [
              0.1111111111111111,
              "#46039f"
             ],
             [
              0.2222222222222222,
              "#7201a8"
             ],
             [
              0.3333333333333333,
              "#9c179e"
             ],
             [
              0.4444444444444444,
              "#bd3786"
             ],
             [
              0.5555555555555556,
              "#d8576b"
             ],
             [
              0.6666666666666666,
              "#ed7953"
             ],
             [
              0.7777777777777778,
              "#fb9f3a"
             ],
             [
              0.8888888888888888,
              "#fdca26"
             ],
             [
              1,
              "#f0f921"
             ]
            ],
            "type": "heatmapgl"
           }
          ],
          "histogram": [
           {
            "marker": {
             "pattern": {
              "fillmode": "overlay",
              "size": 10,
              "solidity": 0.2
             }
            },
            "type": "histogram"
           }
          ],
          "histogram2d": [
           {
            "colorbar": {
             "outlinewidth": 0,
             "ticks": ""
            },
            "colorscale": [
             [
              0,
              "#0d0887"
             ],
             [
              0.1111111111111111,
              "#46039f"
             ],
             [
              0.2222222222222222,
              "#7201a8"
             ],
             [
              0.3333333333333333,
              "#9c179e"
             ],
             [
              0.4444444444444444,
              "#bd3786"
             ],
             [
              0.5555555555555556,
              "#d8576b"
             ],
             [
              0.6666666666666666,
              "#ed7953"
             ],
             [
              0.7777777777777778,
              "#fb9f3a"
             ],
             [
              0.8888888888888888,
              "#fdca26"
             ],
             [
              1,
              "#f0f921"
             ]
            ],
            "type": "histogram2d"
           }
          ],
          "histogram2dcontour": [
           {
            "colorbar": {
             "outlinewidth": 0,
             "ticks": ""
            },
            "colorscale": [
             [
              0,
              "#0d0887"
             ],
             [
              0.1111111111111111,
              "#46039f"
             ],
             [
              0.2222222222222222,
              "#7201a8"
             ],
             [
              0.3333333333333333,
              "#9c179e"
             ],
             [
              0.4444444444444444,
              "#bd3786"
             ],
             [
              0.5555555555555556,
              "#d8576b"
             ],
             [
              0.6666666666666666,
              "#ed7953"
             ],
             [
              0.7777777777777778,
              "#fb9f3a"
             ],
             [
              0.8888888888888888,
              "#fdca26"
             ],
             [
              1,
              "#f0f921"
             ]
            ],
            "type": "histogram2dcontour"
           }
          ],
          "mesh3d": [
           {
            "colorbar": {
             "outlinewidth": 0,
             "ticks": ""
            },
            "type": "mesh3d"
           }
          ],
          "parcoords": [
           {
            "line": {
             "colorbar": {
              "outlinewidth": 0,
              "ticks": ""
             }
            },
            "type": "parcoords"
           }
          ],
          "pie": [
           {
            "automargin": true,
            "type": "pie"
           }
          ],
          "scatter": [
           {
            "fillpattern": {
             "fillmode": "overlay",
             "size": 10,
             "solidity": 0.2
            },
            "type": "scatter"
           }
          ],
          "scatter3d": [
           {
            "line": {
             "colorbar": {
              "outlinewidth": 0,
              "ticks": ""
             }
            },
            "marker": {
             "colorbar": {
              "outlinewidth": 0,
              "ticks": ""
             }
            },
            "type": "scatter3d"
           }
          ],
          "scattercarpet": [
           {
            "marker": {
             "colorbar": {
              "outlinewidth": 0,
              "ticks": ""
             }
            },
            "type": "scattercarpet"
           }
          ],
          "scattergeo": [
           {
            "marker": {
             "colorbar": {
              "outlinewidth": 0,
              "ticks": ""
             }
            },
            "type": "scattergeo"
           }
          ],
          "scattergl": [
           {
            "marker": {
             "colorbar": {
              "outlinewidth": 0,
              "ticks": ""
             }
            },
            "type": "scattergl"
           }
          ],
          "scattermapbox": [
           {
            "marker": {
             "colorbar": {
              "outlinewidth": 0,
              "ticks": ""
             }
            },
            "type": "scattermapbox"
           }
          ],
          "scatterpolar": [
           {
            "marker": {
             "colorbar": {
              "outlinewidth": 0,
              "ticks": ""
             }
            },
            "type": "scatterpolar"
           }
          ],
          "scatterpolargl": [
           {
            "marker": {
             "colorbar": {
              "outlinewidth": 0,
              "ticks": ""
             }
            },
            "type": "scatterpolargl"
           }
          ],
          "scatterternary": [
           {
            "marker": {
             "colorbar": {
              "outlinewidth": 0,
              "ticks": ""
             }
            },
            "type": "scatterternary"
           }
          ],
          "surface": [
           {
            "colorbar": {
             "outlinewidth": 0,
             "ticks": ""
            },
            "colorscale": [
             [
              0,
              "#0d0887"
             ],
             [
              0.1111111111111111,
              "#46039f"
             ],
             [
              0.2222222222222222,
              "#7201a8"
             ],
             [
              0.3333333333333333,
              "#9c179e"
             ],
             [
              0.4444444444444444,
              "#bd3786"
             ],
             [
              0.5555555555555556,
              "#d8576b"
             ],
             [
              0.6666666666666666,
              "#ed7953"
             ],
             [
              0.7777777777777778,
              "#fb9f3a"
             ],
             [
              0.8888888888888888,
              "#fdca26"
             ],
             [
              1,
              "#f0f921"
             ]
            ],
            "type": "surface"
           }
          ],
          "table": [
           {
            "cells": {
             "fill": {
              "color": "#EBF0F8"
             },
             "line": {
              "color": "white"
             }
            },
            "header": {
             "fill": {
              "color": "#C8D4E3"
             },
             "line": {
              "color": "white"
             }
            },
            "type": "table"
           }
          ]
         },
         "layout": {
          "annotationdefaults": {
           "arrowcolor": "#2a3f5f",
           "arrowhead": 0,
           "arrowwidth": 1
          },
          "autotypenumbers": "strict",
          "coloraxis": {
           "colorbar": {
            "outlinewidth": 0,
            "ticks": ""
           }
          },
          "colorscale": {
           "diverging": [
            [
             0,
             "#8e0152"
            ],
            [
             0.1,
             "#c51b7d"
            ],
            [
             0.2,
             "#de77ae"
            ],
            [
             0.3,
             "#f1b6da"
            ],
            [
             0.4,
             "#fde0ef"
            ],
            [
             0.5,
             "#f7f7f7"
            ],
            [
             0.6,
             "#e6f5d0"
            ],
            [
             0.7,
             "#b8e186"
            ],
            [
             0.8,
             "#7fbc41"
            ],
            [
             0.9,
             "#4d9221"
            ],
            [
             1,
             "#276419"
            ]
           ],
           "sequential": [
            [
             0,
             "#0d0887"
            ],
            [
             0.1111111111111111,
             "#46039f"
            ],
            [
             0.2222222222222222,
             "#7201a8"
            ],
            [
             0.3333333333333333,
             "#9c179e"
            ],
            [
             0.4444444444444444,
             "#bd3786"
            ],
            [
             0.5555555555555556,
             "#d8576b"
            ],
            [
             0.6666666666666666,
             "#ed7953"
            ],
            [
             0.7777777777777778,
             "#fb9f3a"
            ],
            [
             0.8888888888888888,
             "#fdca26"
            ],
            [
             1,
             "#f0f921"
            ]
           ],
           "sequentialminus": [
            [
             0,
             "#0d0887"
            ],
            [
             0.1111111111111111,
             "#46039f"
            ],
            [
             0.2222222222222222,
             "#7201a8"
            ],
            [
             0.3333333333333333,
             "#9c179e"
            ],
            [
             0.4444444444444444,
             "#bd3786"
            ],
            [
             0.5555555555555556,
             "#d8576b"
            ],
            [
             0.6666666666666666,
             "#ed7953"
            ],
            [
             0.7777777777777778,
             "#fb9f3a"
            ],
            [
             0.8888888888888888,
             "#fdca26"
            ],
            [
             1,
             "#f0f921"
            ]
           ]
          },
          "colorway": [
           "#636efa",
           "#EF553B",
           "#00cc96",
           "#ab63fa",
           "#FFA15A",
           "#19d3f3",
           "#FF6692",
           "#B6E880",
           "#FF97FF",
           "#FECB52"
          ],
          "font": {
           "color": "#2a3f5f"
          },
          "geo": {
           "bgcolor": "white",
           "lakecolor": "white",
           "landcolor": "#E5ECF6",
           "showlakes": true,
           "showland": true,
           "subunitcolor": "white"
          },
          "hoverlabel": {
           "align": "left"
          },
          "hovermode": "closest",
          "mapbox": {
           "style": "light"
          },
          "paper_bgcolor": "white",
          "plot_bgcolor": "#E5ECF6",
          "polar": {
           "angularaxis": {
            "gridcolor": "white",
            "linecolor": "white",
            "ticks": ""
           },
           "bgcolor": "#E5ECF6",
           "radialaxis": {
            "gridcolor": "white",
            "linecolor": "white",
            "ticks": ""
           }
          },
          "scene": {
           "xaxis": {
            "backgroundcolor": "#E5ECF6",
            "gridcolor": "white",
            "gridwidth": 2,
            "linecolor": "white",
            "showbackground": true,
            "ticks": "",
            "zerolinecolor": "white"
           },
           "yaxis": {
            "backgroundcolor": "#E5ECF6",
            "gridcolor": "white",
            "gridwidth": 2,
            "linecolor": "white",
            "showbackground": true,
            "ticks": "",
            "zerolinecolor": "white"
           },
           "zaxis": {
            "backgroundcolor": "#E5ECF6",
            "gridcolor": "white",
            "gridwidth": 2,
            "linecolor": "white",
            "showbackground": true,
            "ticks": "",
            "zerolinecolor": "white"
           }
          },
          "shapedefaults": {
           "line": {
            "color": "#2a3f5f"
           }
          },
          "ternary": {
           "aaxis": {
            "gridcolor": "white",
            "linecolor": "white",
            "ticks": ""
           },
           "baxis": {
            "gridcolor": "white",
            "linecolor": "white",
            "ticks": ""
           },
           "bgcolor": "#E5ECF6",
           "caxis": {
            "gridcolor": "white",
            "linecolor": "white",
            "ticks": ""
           }
          },
          "title": {
           "x": 0.05
          },
          "xaxis": {
           "automargin": true,
           "gridcolor": "white",
           "linecolor": "white",
           "ticks": "",
           "title": {
            "standoff": 15
           },
           "zerolinecolor": "white",
           "zerolinewidth": 2
          },
          "yaxis": {
           "automargin": true,
           "gridcolor": "white",
           "linecolor": "white",
           "ticks": "",
           "title": {
            "standoff": 15
           },
           "zerolinecolor": "white",
           "zerolinewidth": 2
          }
         }
        },
        "title": {
         "text": "<b>Número de fiscalizações, por tipo de posto</b> (01/2018 - 06/2023)"
        },
        "width": 900,
        "xaxis": {
         "anchor": "y",
         "color": "black",
         "domain": [
          0,
          1
         ],
         "gridcolor": "white",
         "linecolor": "black",
         "mirror": true,
         "ticksuffix": "    ",
         "title": {
          "font": {
           "color": "black",
           "size": 12
          },
          "text": "Mês-Ano"
         },
         "type": "category"
        },
        "yaxis": {
         "anchor": "x",
         "color": "black",
         "domain": [
          0,
          1
         ],
         "gridcolor": "white",
         "linecolor": "black",
         "mirror": true,
         "showticklabels": true,
         "ticksuffix": "    ",
         "title": {
          "font": {
           "color": "black",
           "size": 12
          },
          "text": "# Fiscalizações"
         }
        }
       }
      }
     },
     "metadata": {},
     "output_type": "display_data"
    }
   ],
   "source": [
    "fig = px.line(por_mes,\n",
    "              x = 'Data DF',\n",
    "              y = 'count',\n",
    "              color = 'BANDEIRA',\n",
    "              color_discrete_sequence=['rgb(84,116,117)', 'rgb(29,60,67)'],\n",
    "              labels = {'count': '# Fiscalizações', 'Data DF': 'Mês-Ano', 'BANDEIRA': 'Posto'})\n",
    "\n",
    "fig.update_layout({\n",
    "    'plot_bgcolor': 'rgba(255, 255, 255, 255)',\n",
    "    'paper_bgcolor': 'rgba(255, 255, 255, 255)'\n",
    "})\n",
    "\n",
    "# increase top margin\n",
    "fig.update_layout(margin=dict(t=100))\n",
    "\n",
    "# add title\n",
    "fig.update_layout(title_text=\"<b>Número de fiscalizações, por tipo de posto</b> (01/2018 - 06/2023)\", \n",
    "                  font=dict(size=12, color='black'))\n",
    "\n",
    "fig.add_annotation(x=-0.055, \n",
    "                   y=1.11,\n",
    "                   xref='paper', \n",
    "                   yref='paper', \n",
    "                   text='<b>Fonte:</b> ANP | <b>Elaboração:</b> Felipe Lamarca', \n",
    "                   showarrow=False, \n",
    "                   font=dict(size=12, color='black'))\n",
    "\n",
    "fig.update_yaxes(ticksuffix = \"    \",  \n",
    "                 linecolor = 'black', \n",
    "                 gridcolor = 'white', \n",
    "                 mirror = True, \n",
    "                 color = 'black',\n",
    "                 showticklabels = True,\n",
    "                 title_font=dict(size=12, color='black'))\n",
    "\n",
    "fig.update_xaxes(ticksuffix = \"    \",  \n",
    "                 linecolor = 'black', \n",
    "                 gridcolor = 'white', \n",
    "                 mirror = True, \n",
    "                 color = 'black',\n",
    "                 title_font=dict(size=12, color='black'),\n",
    "                 type=\"category\")\n",
    "\n",
    "fig.update_layout(width=900, \n",
    "                  height=600, \n",
    "                  showlegend=True)\n",
    "\n",
    "fig.show()\n",
    "\n",
    "fig.write_image(\"../images/n-fiscalizacao-mes.png\", scale=1)"
   ]
  }
 ],
 "metadata": {
  "kernelspec": {
   "display_name": "Python 3",
   "language": "python",
   "name": "python3"
  },
  "language_info": {
   "codemirror_mode": {
    "name": "ipython",
    "version": 3
   },
   "file_extension": ".py",
   "mimetype": "text/x-python",
   "name": "python",
   "nbconvert_exporter": "python",
   "pygments_lexer": "ipython3",
   "version": "3.11.4"
  },
  "orig_nbformat": 4
 },
 "nbformat": 4,
 "nbformat_minor": 2
}
